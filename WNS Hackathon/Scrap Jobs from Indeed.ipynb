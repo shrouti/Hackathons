{
 "cells": [
  {
   "cell_type": "code",
   "execution_count": 1,
   "metadata": {},
   "outputs": [],
   "source": [
    "import requests\n",
    "from bs4 import BeautifulSoup\n",
    "import numpy as np\n",
    "import pandas as pd\n",
    "from pandas import Series,DataFrame"
   ]
  },
  {
   "cell_type": "code",
   "execution_count": 2,
   "metadata": {},
   "outputs": [],
   "source": [
    "URL = \"https://www.indeed.co.in/jobs?q=director+it&l=\""
   ]
  },
  {
   "cell_type": "code",
   "execution_count": 3,
   "metadata": {},
   "outputs": [],
   "source": [
    "req = requests.get(URL)\n",
    " \n",
    "htmlData = BeautifulSoup(req.content, 'html5lib')"
   ]
  },
  {
   "cell_type": "code",
   "execution_count": 4,
   "metadata": {},
   "outputs": [],
   "source": [
    "jobtitles = []\n",
    "joblocation = []\n",
    "\n",
    "for table in htmlData.find_all(name='table' , attrs={'id':'resultsBody'}):\n",
    "    for table1 in htmlData.find_all(name='table' , attrs={'id':'pageContent'}):\n",
    "        for td in table.find_all(name='td' , attrs={'id':'resultsCol'}):\n",
    "            for div in td.find_all(name='div' , attrs={'data-tn-component':'organicJob'}):\n",
    "                for h2 in div.find_all(name='h2', attrs={'class':'jobtitle'}):\n",
    "                    for a in h2.find_all(name='a', attrs={'class':'turnstileLink'}):\n",
    "                        jobtitles.append(a['title'])\n",
    "\n",
    "for table in htmlData.find_all(name='table' , attrs={'id':'resultsBody'}):\n",
    "    for table1 in htmlData.find_all(name='table' , attrs={'id':'pageContent'}):\n",
    "        for td in table.find_all(name='td' , attrs={'id':'resultsCol'}):\n",
    "            for div in td.find_all(name='div' , attrs={'data-tn-component':'organicJob'}):\n",
    "                for span in div.find_all(name='span', attrs={'class':'location'}):\n",
    "                    joblocation.append(span.text)"
   ]
  },
  {
   "cell_type": "code",
   "execution_count": 6,
   "metadata": {},
   "outputs": [
    {
     "name": "stdout",
     "output_type": "stream",
     "text": [
      "Director IT jobs by Indeed:\n"
     ]
    },
    {
     "data": {
      "text/html": [
       "<div>\n",
       "<style scoped>\n",
       "    .dataframe tbody tr th:only-of-type {\n",
       "        vertical-align: middle;\n",
       "    }\n",
       "\n",
       "    .dataframe tbody tr th {\n",
       "        vertical-align: top;\n",
       "    }\n",
       "\n",
       "    .dataframe thead th {\n",
       "        text-align: right;\n",
       "    }\n",
       "</style>\n",
       "<table border=\"1\" class=\"dataframe\">\n",
       "  <thead>\n",
       "    <tr style=\"text-align: right;\">\n",
       "      <th></th>\n",
       "      <th>Job Title</th>\n",
       "      <th>Location</th>\n",
       "    </tr>\n",
       "  </thead>\n",
       "  <tbody>\n",
       "    <tr>\n",
       "      <th>0</th>\n",
       "      <td>Head IT/ CIO</td>\n",
       "      <td>India</td>\n",
       "    </tr>\n",
       "    <tr>\n",
       "      <th>1</th>\n",
       "      <td>In House IT support and Manager</td>\n",
       "      <td>Mumbai, Maharashtra</td>\n",
       "    </tr>\n",
       "    <tr>\n",
       "      <th>2</th>\n",
       "      <td>IT India Director</td>\n",
       "      <td>Pune, Maharashtra</td>\n",
       "    </tr>\n",
       "    <tr>\n",
       "      <th>3</th>\n",
       "      <td>Referrals for Leadership positions – VP &amp; Dire...</td>\n",
       "      <td>Pune, Maharashtra</td>\n",
       "    </tr>\n",
       "    <tr>\n",
       "      <th>4</th>\n",
       "      <td>IT Delivery Manager</td>\n",
       "      <td>More, Maharashtra</td>\n",
       "    </tr>\n",
       "    <tr>\n",
       "      <th>5</th>\n",
       "      <td>Director, IT</td>\n",
       "      <td>Noida, Uttar Pradesh</td>\n",
       "    </tr>\n",
       "    <tr>\n",
       "      <th>6</th>\n",
       "      <td>Director of Service Delivery (Managed IT Servi...</td>\n",
       "      <td>Noida, Uttar Pradesh</td>\n",
       "    </tr>\n",
       "    <tr>\n",
       "      <th>7</th>\n",
       "      <td>Director of Customer and Seller Experience IT ...</td>\n",
       "      <td>Bengaluru, Karnataka</td>\n",
       "    </tr>\n",
       "    <tr>\n",
       "      <th>8</th>\n",
       "      <td>IT MANAGER</td>\n",
       "      <td>India</td>\n",
       "    </tr>\n",
       "    <tr>\n",
       "      <th>9</th>\n",
       "      <td>Director – Technology</td>\n",
       "      <td>Bengaluru, Karnataka</td>\n",
       "    </tr>\n",
       "  </tbody>\n",
       "</table>\n",
       "</div>"
      ],
      "text/plain": [
       "                                           Job Title              Location\n",
       "0                                       Head IT/ CIO                 India\n",
       "1                    In House IT support and Manager   Mumbai, Maharashtra\n",
       "2                                  IT India Director     Pune, Maharashtra\n",
       "3  Referrals for Leadership positions – VP & Dire...     Pune, Maharashtra\n",
       "4                                IT Delivery Manager     More, Maharashtra\n",
       "5                                       Director, IT  Noida, Uttar Pradesh\n",
       "6  Director of Service Delivery (Managed IT Servi...  Noida, Uttar Pradesh\n",
       "7  Director of Customer and Seller Experience IT ...  Bengaluru, Karnataka\n",
       "8                                         IT MANAGER                 India\n",
       "9                              Director – Technology  Bengaluru, Karnataka"
      ]
     },
     "execution_count": 6,
     "metadata": {},
     "output_type": "execute_result"
    }
   ],
   "source": [
    "\n",
    "titlesSeries  = Series(np.array(jobtitles))\n",
    "locationSeries = Series(np.array(joblocation))\n",
    "dataframe = pd.concat([titlesSeries,locationSeries],axis=1)\n",
    "dataframe.columns = ['Job Title','Location']\n",
    "print(\"Director IT jobs by Indeed:\")\n",
    "dataframe"
   ]
  },
  {
   "cell_type": "code",
   "execution_count": 8,
   "metadata": {},
   "outputs": [
    {
     "name": "stdout",
     "output_type": "stream",
     "text": [
      "Director IT Mumbai jobs by Indeed:\n"
     ]
    },
    {
     "data": {
      "text/html": [
       "<div>\n",
       "<style scoped>\n",
       "    .dataframe tbody tr th:only-of-type {\n",
       "        vertical-align: middle;\n",
       "    }\n",
       "\n",
       "    .dataframe tbody tr th {\n",
       "        vertical-align: top;\n",
       "    }\n",
       "\n",
       "    .dataframe thead th {\n",
       "        text-align: right;\n",
       "    }\n",
       "</style>\n",
       "<table border=\"1\" class=\"dataframe\">\n",
       "  <thead>\n",
       "    <tr style=\"text-align: right;\">\n",
       "      <th></th>\n",
       "      <th>Job Title</th>\n",
       "      <th>Location</th>\n",
       "    </tr>\n",
       "  </thead>\n",
       "  <tbody>\n",
       "    <tr>\n",
       "      <th>0</th>\n",
       "      <td>In House IT support and Manager</td>\n",
       "      <td>Mumbai, Maharashtra</td>\n",
       "    </tr>\n",
       "    <tr>\n",
       "      <th>1</th>\n",
       "      <td>Manager - IT</td>\n",
       "      <td>Mumbai, Maharashtra</td>\n",
       "    </tr>\n",
       "    <tr>\n",
       "      <th>2</th>\n",
       "      <td>IT Manager (App Dev)</td>\n",
       "      <td>Mumbai, Maharashtra</td>\n",
       "    </tr>\n",
       "    <tr>\n",
       "      <th>3</th>\n",
       "      <td>Manager - IT</td>\n",
       "      <td>Mumbai, Maharashtra</td>\n",
       "    </tr>\n",
       "    <tr>\n",
       "      <th>4</th>\n",
       "      <td>Director - Change the bank</td>\n",
       "      <td>Mumbai, Maharashtra</td>\n",
       "    </tr>\n",
       "    <tr>\n",
       "      <th>5</th>\n",
       "      <td>VP- Strategic Business Analysis</td>\n",
       "      <td>Mumbai, Maharashtra</td>\n",
       "    </tr>\n",
       "    <tr>\n",
       "      <th>6</th>\n",
       "      <td>Manager - Information Technology</td>\n",
       "      <td>Mumbai, Maharashtra</td>\n",
       "    </tr>\n",
       "    <tr>\n",
       "      <th>7</th>\n",
       "      <td>Xaxis l Vice President - Programmatic Operations</td>\n",
       "      <td>Mumbai, Maharashtra</td>\n",
       "    </tr>\n",
       "    <tr>\n",
       "      <th>8</th>\n",
       "      <td>Manager IT Auditor</td>\n",
       "      <td>Mumbai, Maharashtra</td>\n",
       "    </tr>\n",
       "    <tr>\n",
       "      <th>9</th>\n",
       "      <td>The Glitch | Associate Group Head - Brand Stra...</td>\n",
       "      <td>Mumbai, Maharashtra</td>\n",
       "    </tr>\n",
       "  </tbody>\n",
       "</table>\n",
       "</div>"
      ],
      "text/plain": [
       "                                           Job Title             Location\n",
       "0                    In House IT support and Manager  Mumbai, Maharashtra\n",
       "1                                       Manager - IT  Mumbai, Maharashtra\n",
       "2                               IT Manager (App Dev)  Mumbai, Maharashtra\n",
       "3                                       Manager - IT  Mumbai, Maharashtra\n",
       "4                         Director - Change the bank  Mumbai, Maharashtra\n",
       "5                    VP- Strategic Business Analysis  Mumbai, Maharashtra\n",
       "6                   Manager - Information Technology  Mumbai, Maharashtra\n",
       "7   Xaxis l Vice President - Programmatic Operations  Mumbai, Maharashtra\n",
       "8                                 Manager IT Auditor  Mumbai, Maharashtra\n",
       "9  The Glitch | Associate Group Head - Brand Stra...  Mumbai, Maharashtra"
      ]
     },
     "execution_count": 8,
     "metadata": {},
     "output_type": "execute_result"
    }
   ],
   "source": [
    "URL = \"https://www.indeed.co.in/jobs?q=director+it&l=mumbai\"\n",
    "req = requests.get(URL)\n",
    "htmlData = BeautifulSoup(req.content, 'html5lib')\n",
    "\n",
    "jobtitles = []\n",
    "joblocation = []\n",
    "\n",
    "for table in htmlData.find_all(name='table' , attrs={'id':'resultsBody'}):\n",
    "    for table1 in htmlData.find_all(name='table' , attrs={'id':'pageContent'}):\n",
    "        for td in table.find_all(name='td' , attrs={'id':'resultsCol'}):\n",
    "            for div in td.find_all(name='div' , attrs={'data-tn-component':'organicJob'}):\n",
    "                for h2 in div.find_all(name='h2', attrs={'class':'jobtitle'}):\n",
    "                    for a in h2.find_all(name='a', attrs={'class':'turnstileLink'}):\n",
    "                        jobtitles.append(a['title'])\n",
    "\n",
    "for table in htmlData.find_all(name='table' , attrs={'id':'resultsBody'}):\n",
    "    for table1 in htmlData.find_all(name='table' , attrs={'id':'pageContent'}):\n",
    "        for td in table.find_all(name='td' , attrs={'id':'resultsCol'}):\n",
    "            for div in td.find_all(name='div' , attrs={'data-tn-component':'organicJob'}):\n",
    "                for span in div.find_all(name='span', attrs={'class':'location'}):\n",
    "                    joblocation.append(span.text)\n",
    "                    \n",
    "titlesSeries = Series(np.array(jobtitles))\n",
    "locationSeries = Series(np.array(joblocation))\n",
    "dataframe = pd.concat([titlesSeries,locationSeries],axis=1)\n",
    "dataframe.columns = ['Job Title','Location']\n",
    "print(\"Director IT Mumbai jobs by Indeed:\")\n",
    "dataframe"
   ]
  },
  {
   "cell_type": "code",
   "execution_count": null,
   "metadata": {},
   "outputs": [],
   "source": []
  },
  {
   "cell_type": "code",
   "execution_count": null,
   "metadata": {},
   "outputs": [],
   "source": [
    "\n"
   ]
  }
 ],
 "metadata": {
  "kernelspec": {
   "display_name": "Python 3",
   "language": "python",
   "name": "python3"
  },
  "language_info": {
   "codemirror_mode": {
    "name": "ipython",
    "version": 3
   },
   "file_extension": ".py",
   "mimetype": "text/x-python",
   "name": "python",
   "nbconvert_exporter": "python",
   "pygments_lexer": "ipython3",
   "version": "3.6.5"
  },
  "latex_envs": {
   "LaTeX_envs_menu_present": true,
   "autoclose": true,
   "autocomplete": true,
   "bibliofile": "biblio.bib",
   "cite_by": "apalike",
   "current_citInitial": 1,
   "eqLabelWithNumbers": true,
   "eqNumInitial": 1,
   "hotkeys": {
    "equation": "Ctrl-E",
    "itemize": "Ctrl-I"
   },
   "labels_anchors": false,
   "latex_user_defs": false,
   "report_style_numbering": false,
   "user_envs_cfg": false
  },
  "nbTranslate": {
   "displayLangs": [
    "*"
   ],
   "hotkey": "alt-t",
   "langInMainMenu": true,
   "sourceLang": "en",
   "targetLang": "fr",
   "useGoogleTranslate": true
  },
  "toc": {
   "base_numbering": 1,
   "nav_menu": {},
   "number_sections": true,
   "sideBar": true,
   "skip_h1_title": false,
   "title_cell": "Table of Contents",
   "title_sidebar": "Contents",
   "toc_cell": false,
   "toc_position": {},
   "toc_section_display": true,
   "toc_window_display": false
  },
  "varInspector": {
   "cols": {
    "lenName": 16,
    "lenType": 16,
    "lenVar": 40
   },
   "kernels_config": {
    "python": {
     "delete_cmd_postfix": "",
     "delete_cmd_prefix": "del ",
     "library": "var_list.py",
     "varRefreshCmd": "print(var_dic_list())"
    },
    "r": {
     "delete_cmd_postfix": ") ",
     "delete_cmd_prefix": "rm(",
     "library": "var_list.r",
     "varRefreshCmd": "cat(var_dic_list()) "
    }
   },
   "types_to_exclude": [
    "module",
    "function",
    "builtin_function_or_method",
    "instance",
    "_Feature"
   ],
   "window_display": false
  }
 },
 "nbformat": 4,
 "nbformat_minor": 2
}
