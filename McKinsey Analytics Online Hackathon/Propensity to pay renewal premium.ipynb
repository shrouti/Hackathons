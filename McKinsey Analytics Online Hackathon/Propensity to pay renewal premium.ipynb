{
 "cells": [
  {
   "cell_type": "code",
   "execution_count": 1,
   "metadata": {},
   "outputs": [],
   "source": [
    "#import required libraries\n",
    "\n",
    "\n",
    "# Pandas \n",
    "import pandas as pd\n",
    "from pandas import Series,DataFrame \n",
    "\n",
    "# Numpy and Matplotlib\n",
    "import numpy as np \n",
    "import matplotlib.pyplot as plt \n",
    "import seaborn as sns \n",
    "#sns.set_style('whitegrid')\n",
    "# Machine Learning \n",
    "from sklearn import preprocessing\n",
    "\n",
    "# In a notebook environment, display the plots inline\n",
    "%matplotlib inline\n",
    "\n",
    "# Set some parameters to apply to all plots. These can be overridden\n",
    "# in each plot if desired\n",
    "import matplotlib\n",
    "# Plot size to 14\" x 7\"\n",
    "matplotlib.rc('figure', figsize = (14, 7))\n",
    "# Font size to 14\n",
    "matplotlib.rc('font', size = 14)\n",
    "# Do not display top and right frame lines\n",
    "matplotlib.rc('axes.spines', top = False, right = False)\n",
    "# Remove grid lines\n",
    "matplotlib.rc('axes', grid = False)\n",
    "# Set backgound color to white\n",
    "matplotlib.rc('axes', facecolor = 'white')\n"
   ]
  },
  {
   "cell_type": "code",
   "execution_count": 2,
   "metadata": {},
   "outputs": [],
   "source": [
    "#Read files:\n",
    "train = pd.read_csv(\"train.csv\")\n",
    "test = pd.read_csv(\"test.csv\")\n"
   ]
  },
  {
   "cell_type": "code",
   "execution_count": 3,
   "metadata": {},
   "outputs": [
    {
     "name": "stdout",
     "output_type": "stream",
     "text": [
      "(79853, 14) (34224, 13) (114077, 14)\n",
      "train    79853\n",
      "test     34224\n",
      "Name: source, dtype: int64\n"
     ]
    }
   ],
   "source": [
    "train['source']='train'\n",
    "test['source']='test'\n",
    "data = pd.concat([train, test],ignore_index=True)\n",
    "print(train.shape, test.shape, data.shape)\n",
    "data.to_csv(\"data_before.csv\",index=False)\n",
    "print(data.source.value_counts())"
   ]
  },
  {
   "cell_type": "code",
   "execution_count": 4,
   "metadata": {},
   "outputs": [
    {
     "name": "stdout",
     "output_type": "stream",
     "text": [
      "Count_3-6_months_late                 128\n",
      "Count_6-12_months_late                128\n",
      "Count_more_than_12_months_late        128\n",
      "Income                                  0\n",
      "age_in_days                             0\n",
      "application_underwriting_score       4297\n",
      "id                                      0\n",
      "no_of_premiums_paid                     0\n",
      "perc_premium_paid_by_cash_credit        0\n",
      "premium                                 0\n",
      "renewal                             34224\n",
      "residence_area_type                     0\n",
      "source                                  0\n",
      "sourcing_channel                        0\n",
      "dtype: int64\n"
     ]
    }
   ],
   "source": [
    "#Missing Values?\n",
    "print(data.apply(lambda x: sum(x.isnull())))\n"
   ]
  },
  {
   "cell_type": "code",
   "execution_count": 5,
   "metadata": {},
   "outputs": [],
   "source": [
    "# There are null values that need to be examined and fixed for the following columns\n",
    "# Count_3-6_months_late                 128\n",
    "# Count_6-12_months_late                128\n",
    "# Count_more_than_12_months_late        128\n",
    "# application_underwriting_score       4297\n",
    "\n",
    "#renewal                             34224 - this is not actually null. 'renewal' is the target variable and missing values are ones in the test set. Which is fine!\n"
   ]
  },
  {
   "cell_type": "code",
   "execution_count": 6,
   "metadata": {},
   "outputs": [
    {
     "name": "stdout",
     "output_type": "stream",
     "text": [
      "113949\n"
     ]
    }
   ],
   "source": [
    "print(data['Count_3-6_months_late'].value_counts().sum()) \n"
   ]
  },
  {
   "cell_type": "code",
   "execution_count": 7,
   "metadata": {},
   "outputs": [
    {
     "name": "stdout",
     "output_type": "stream",
     "text": [
      "0.0     95629\n",
      "1.0     12560\n",
      "2.0      3513\n",
      "3.0      1302\n",
      "4.0       534\n",
      "5.0       237\n",
      "6.0       100\n",
      "7.0        38\n",
      "8.0        21\n",
      "9.0         9\n",
      "12.0        2\n",
      "10.0        2\n",
      "11.0        1\n",
      "13.0        1\n",
      "Name: Count_3-6_months_late, dtype: int64\n"
     ]
    }
   ],
   "source": [
    "print(data['Count_3-6_months_late'].value_counts())\n"
   ]
  },
  {
   "cell_type": "code",
   "execution_count": 8,
   "metadata": {},
   "outputs": [
    {
     "name": "stdout",
     "output_type": "stream",
     "text": [
      "None\n"
     ]
    }
   ],
   "source": [
    "#Values 0.0 and 1.0 account to 95% of the total population of the data\n",
    "# 0.0 is 84% of the whole data set (training+testing) - so we can safely substitute the null values for 3-6 months late by 0.0\n",
    "print(data['Count_3-6_months_late'].fillna(0.0,inplace=True))\n"
   ]
  },
  {
   "cell_type": "code",
   "execution_count": 9,
   "metadata": {},
   "outputs": [
    {
     "name": "stdout",
     "output_type": "stream",
     "text": [
      "Count_3-6_months_late                   0\n",
      "Count_6-12_months_late                128\n",
      "Count_more_than_12_months_late        128\n",
      "Income                                  0\n",
      "age_in_days                             0\n",
      "application_underwriting_score       4297\n",
      "id                                      0\n",
      "no_of_premiums_paid                     0\n",
      "perc_premium_paid_by_cash_credit        0\n",
      "premium                                 0\n",
      "renewal                             34224\n",
      "residence_area_type                     0\n",
      "source                                  0\n",
      "sourcing_channel                        0\n",
      "dtype: int64\n"
     ]
    }
   ],
   "source": [
    "print(data.apply(lambda x: sum(x.isnull())))\n"
   ]
  },
  {
   "cell_type": "code",
   "execution_count": 10,
   "metadata": {},
   "outputs": [
    {
     "name": "stdout",
     "output_type": "stream",
     "text": [
      "113949\n"
     ]
    }
   ],
   "source": [
    "print(data['Count_6-12_months_late'].value_counts().sum()) \n"
   ]
  },
  {
   "cell_type": "code",
   "execution_count": 11,
   "metadata": {},
   "outputs": [
    {
     "name": "stdout",
     "output_type": "stream",
     "text": [
      "0.0     108352\n",
      "1.0       3796\n",
      "2.0       1005\n",
      "3.0        436\n",
      "4.0        186\n",
      "5.0         74\n",
      "6.0         44\n",
      "7.0         18\n",
      "9.0         12\n",
      "8.0         10\n",
      "10.0         7\n",
      "14.0         2\n",
      "11.0         2\n",
      "13.0         2\n",
      "12.0         1\n",
      "17.0         1\n",
      "15.0         1\n",
      "Name: Count_6-12_months_late, dtype: int64\n"
     ]
    }
   ],
   "source": [
    "print(data['Count_6-12_months_late'].value_counts())\n"
   ]
  },
  {
   "cell_type": "code",
   "execution_count": 12,
   "metadata": {},
   "outputs": [
    {
     "name": "stdout",
     "output_type": "stream",
     "text": [
      "None\n"
     ]
    }
   ],
   "source": [
    "#Values 0.0 and 1.0 account to 98% of the total population of the data\n",
    "# 0.0 is 94% of the whole data set (training+testing) - so we can safely substitute the null values for 6-12 months late by 0.0\n",
    "print(data['Count_6-12_months_late'].fillna(0.0,inplace=True))\n"
   ]
  },
  {
   "cell_type": "code",
   "execution_count": 13,
   "metadata": {},
   "outputs": [
    {
     "name": "stdout",
     "output_type": "stream",
     "text": [
      "113949\n"
     ]
    }
   ],
   "source": [
    "print(data['Count_more_than_12_months_late'].value_counts().sum()) \n"
   ]
  },
  {
   "cell_type": "code",
   "execution_count": 14,
   "metadata": {},
   "outputs": [
    {
     "name": "stdout",
     "output_type": "stream",
     "text": [
      "0.0     108687\n",
      "1.0       4237\n",
      "2.0        718\n",
      "3.0        203\n",
      "4.0         62\n",
      "5.0         22\n",
      "6.0         13\n",
      "7.0          4\n",
      "8.0          2\n",
      "11.0         1\n",
      "Name: Count_more_than_12_months_late, dtype: int64\n"
     ]
    }
   ],
   "source": [
    "print(data['Count_more_than_12_months_late'].value_counts())\n"
   ]
  },
  {
   "cell_type": "code",
   "execution_count": 15,
   "metadata": {},
   "outputs": [
    {
     "name": "stdout",
     "output_type": "stream",
     "text": [
      "None\n"
     ]
    }
   ],
   "source": [
    "#Values 0.0 and 1.0 account to 99% of the total population of the data\n",
    "# 0.0 is 95% of the whole data set (training+testing) - so we can safely substitute the null values for more than 12 months late by 0.0\n",
    "print(data['Count_more_than_12_months_late'].fillna(0.0,inplace=True))\n"
   ]
  },
  {
   "cell_type": "code",
   "execution_count": 16,
   "metadata": {},
   "outputs": [
    {
     "name": "stdout",
     "output_type": "stream",
     "text": [
      "Count_3-6_months_late                   0\n",
      "Count_6-12_months_late                  0\n",
      "Count_more_than_12_months_late          0\n",
      "Income                                  0\n",
      "age_in_days                             0\n",
      "application_underwriting_score       4297\n",
      "id                                      0\n",
      "no_of_premiums_paid                     0\n",
      "perc_premium_paid_by_cash_credit        0\n",
      "premium                                 0\n",
      "renewal                             34224\n",
      "residence_area_type                     0\n",
      "source                                  0\n",
      "sourcing_channel                        0\n",
      "dtype: int64\n"
     ]
    }
   ],
   "source": [
    "print(data.apply(lambda x: sum(x.isnull())))\n"
   ]
  },
  {
   "cell_type": "code",
   "execution_count": 17,
   "metadata": {},
   "outputs": [
    {
     "data": {
      "text/plain": [
       "109780"
      ]
     },
     "execution_count": 17,
     "metadata": {},
     "output_type": "execute_result"
    }
   ],
   "source": [
    "data['application_underwriting_score'].value_counts().sum() "
   ]
  },
  {
   "cell_type": "code",
   "execution_count": 18,
   "metadata": {},
   "outputs": [
    {
     "data": {
      "text/plain": [
       "99.89    2835\n",
       "99.88    1940\n",
       "99.87    1237\n",
       "99.86     967\n",
       "99.30     904\n",
       "99.32     900\n",
       "99.38     898\n",
       "99.23     895\n",
       "99.28     890\n",
       "99.18     880\n",
       "99.46     878\n",
       "99.42     876\n",
       "99.37     874\n",
       "99.31     873\n",
       "99.36     871\n",
       "99.35     867\n",
       "99.25     862\n",
       "99.27     858\n",
       "99.43     858\n",
       "99.33     853\n",
       "99.29     849\n",
       "99.39     843\n",
       "99.22     838\n",
       "99.17     837\n",
       "99.48     828\n",
       "99.16     828\n",
       "99.19     827\n",
       "99.52     826\n",
       "99.26     825\n",
       "99.40     825\n",
       "         ... \n",
       "93.04       1\n",
       "94.26       1\n",
       "92.55       1\n",
       "94.25       1\n",
       "94.65       1\n",
       "93.43       1\n",
       "92.56       1\n",
       "92.12       1\n",
       "93.59       1\n",
       "93.13       1\n",
       "92.20       1\n",
       "92.37       1\n",
       "93.18       1\n",
       "94.79       1\n",
       "92.47       1\n",
       "92.07       1\n",
       "95.45       1\n",
       "94.96       1\n",
       "92.78       1\n",
       "93.14       1\n",
       "93.91       1\n",
       "92.26       1\n",
       "92.24       1\n",
       "95.81       1\n",
       "93.29       1\n",
       "93.21       1\n",
       "92.97       1\n",
       "92.42       1\n",
       "92.63       1\n",
       "92.74       1\n",
       "Name: application_underwriting_score, Length: 713, dtype: int64"
      ]
     },
     "execution_count": 18,
     "metadata": {},
     "output_type": "execute_result"
    }
   ],
   "source": [
    "data['application_underwriting_score'].value_counts()"
   ]
  },
  {
   "cell_type": "code",
   "execution_count": 19,
   "metadata": {},
   "outputs": [],
   "source": [
    "# In this case we cannot ascertain that a particular value is mostly/frequently/populary used. So we will go with the substituting the null values with the mean\n",
    "\n",
    "data['application_underwriting_score'].fillna(data['application_underwriting_score'].mean(),inplace=True)\n"
   ]
  },
  {
   "cell_type": "code",
   "execution_count": 20,
   "metadata": {},
   "outputs": [
    {
     "name": "stdout",
     "output_type": "stream",
     "text": [
      "\n",
      "\n",
      "train    79853\n",
      "test     34224\n",
      "Name: source, dtype: int64\n"
     ]
    }
   ],
   "source": [
    "data.apply(lambda x: sum(x.isnull()))\n",
    "print('\\n')\n",
    "print(data.source.value_counts())"
   ]
  },
  {
   "cell_type": "code",
   "execution_count": 21,
   "metadata": {},
   "outputs": [],
   "source": [
    "# All missing values taken care of :)"
   ]
  },
  {
   "cell_type": "code",
   "execution_count": 22,
   "metadata": {},
   "outputs": [
    {
     "data": {
      "text/plain": [
       "0         False\n",
       "1         False\n",
       "2         False\n",
       "3         False\n",
       "4         False\n",
       "5         False\n",
       "6         False\n",
       "7         False\n",
       "8         False\n",
       "9         False\n",
       "10        False\n",
       "11        False\n",
       "12        False\n",
       "13        False\n",
       "14        False\n",
       "15        False\n",
       "16        False\n",
       "17        False\n",
       "18        False\n",
       "19        False\n",
       "20        False\n",
       "21        False\n",
       "22        False\n",
       "23        False\n",
       "24        False\n",
       "25        False\n",
       "26        False\n",
       "27        False\n",
       "28        False\n",
       "29        False\n",
       "          ...  \n",
       "114047    False\n",
       "114048    False\n",
       "114049    False\n",
       "114050    False\n",
       "114051    False\n",
       "114052    False\n",
       "114053    False\n",
       "114054    False\n",
       "114055    False\n",
       "114056    False\n",
       "114057    False\n",
       "114058    False\n",
       "114059    False\n",
       "114060    False\n",
       "114061    False\n",
       "114062    False\n",
       "114063    False\n",
       "114064    False\n",
       "114065    False\n",
       "114066    False\n",
       "114067    False\n",
       "114068    False\n",
       "114069    False\n",
       "114070    False\n",
       "114071    False\n",
       "114072    False\n",
       "114073    False\n",
       "114074    False\n",
       "114075    False\n",
       "114076    False\n",
       "Length: 114077, dtype: bool"
      ]
     },
     "execution_count": 22,
     "metadata": {},
     "output_type": "execute_result"
    }
   ],
   "source": [
    "# Now let's check for any duplicate rows\n",
    "\n",
    "data.duplicated()"
   ]
  },
  {
   "cell_type": "code",
   "execution_count": 23,
   "metadata": {},
   "outputs": [
    {
     "data": {
      "text/plain": [
       "0"
      ]
     },
     "execution_count": 23,
     "metadata": {},
     "output_type": "execute_result"
    }
   ],
   "source": [
    "# Above is not really readable. We can use our aggregate sum function to get a count of duplicate line items\n",
    "data.duplicated().sum()"
   ]
  },
  {
   "cell_type": "code",
   "execution_count": 24,
   "metadata": {},
   "outputs": [],
   "source": [
    "# There are no duplicates in the data set\n",
    "# I have also scanned the dataset for any irrelevant data, but have found none\n",
    "# Nor does any have any structural errors for example - Yes, No, Y, N/A etc. So we are good there!"
   ]
  },
  {
   "cell_type": "code",
   "execution_count": 25,
   "metadata": {},
   "outputs": [],
   "source": [
    "#Lastly, but most important step is to check for Outliers\n",
    "# First we will try to find outliers using plots and then we will also use a algorathmic technique to refine or validate our results"
   ]
  },
  {
   "cell_type": "code",
   "execution_count": 26,
   "metadata": {},
   "outputs": [
    {
     "name": "stdout",
     "output_type": "stream",
     "text": [
      "\n",
      "\n",
      "train    79853\n",
      "test     34224\n",
      "Name: source, dtype: int64\n"
     ]
    }
   ],
   "source": [
    "#Outlier analysis using plots\n",
    "data.head()\n",
    "print('\\n')\n",
    "print(data.source.value_counts())"
   ]
  },
  {
   "cell_type": "code",
   "execution_count": 27,
   "metadata": {},
   "outputs": [],
   "source": [
    "#sns.boxplot(x='Income',y='renewal', data=data, palette='hls')"
   ]
  },
  {
   "cell_type": "code",
   "execution_count": 28,
   "metadata": {},
   "outputs": [
    {
     "data": {
      "text/plain": [
       "Index(['Count_3-6_months_late', 'Count_6-12_months_late',\n",
       "       'Count_more_than_12_months_late', 'Income', 'age_in_days',\n",
       "       'application_underwriting_score', 'id', 'no_of_premiums_paid',\n",
       "       'perc_premium_paid_by_cash_credit', 'premium', 'renewal',\n",
       "       'residence_area_type', 'source', 'sourcing_channel'],\n",
       "      dtype='object')"
      ]
     },
     "execution_count": 28,
     "metadata": {},
     "output_type": "execute_result"
    }
   ],
   "source": [
    "data.columns"
   ]
  },
  {
   "cell_type": "code",
   "execution_count": 29,
   "metadata": {},
   "outputs": [],
   "source": [
    "#sns.pairplot(data, hue='renewal',palette='hls')"
   ]
  },
  {
   "cell_type": "code",
   "execution_count": 30,
   "metadata": {},
   "outputs": [],
   "source": [
    "import itertools\n",
    "from sklearn.metrics import roc_curve, auc, roc_auc_score, log_loss, accuracy_score, confusion_matrix\n",
    "\n",
    "def plot_cm(ax, y_true, y_pred, classes, title, th=0.5, cmap=plt.cm.Blues):\n",
    "    y_pred_labels = (y_pred>th).astype(int)\n",
    "    \n",
    "    cm = confusion_matrix(y_true, y_pred_labels)\n",
    "    \n",
    "    im = ax.imshow(cm, interpolation='nearest', cmap=cmap)\n",
    "    ax.set_title(title)\n",
    "\n",
    "    tick_marks = np.arange(len(classes))\n",
    "    ax.set_xticks(tick_marks)\n",
    "    ax.set_yticks(tick_marks)\n",
    "    ax.set_xticklabels(classes)\n",
    "    ax.set_yticklabels(classes)\n",
    "\n",
    "    thresh = cm.max() / 2.\n",
    "    for i, j in itertools.product(range(cm.shape[0]), range(cm.shape[1])):\n",
    "        ax.text(j, i, cm[i, j],\n",
    "                 horizontalalignment=\"center\",\n",
    "                 color=\"white\" if cm[i, j] > thresh else \"black\")\n",
    "    ax.set_ylabel('True label')\n",
    "    ax.set_xlabel('Predicted label')\n",
    "\n",
    "# def plot_auc(ax, y_train, y_train_pred, y_test, y_test_pred, th=0.5):\n",
    "\n",
    "#     y_train_pred_labels = (y_train_pred>th).astype(int)\n",
    "#     y_test_pred_labels  = (y_test_pred>th).astype(int)\n",
    "\n",
    "#     fpr_train, tpr_train, _ = roc_curve(y_train,y_train_pred)\n",
    "#     roc_auc_train = auc(fpr_train, tpr_train)\n",
    "#     acc_train = accuracy_score(y_train, y_train_pred_labels)\n",
    "\n",
    "#     fpr_test, tpr_test, _ = roc_curve(y_test,y_test_pred)\n",
    "#     roc_auc_test = auc(fpr_test, tpr_test)\n",
    "#     acc_test = accuracy_score(y_test, y_test_pred_labels)\n",
    "\n",
    "#     ax.plot(fpr_train, tpr_train)\n",
    "#     ax.plot(fpr_test, tpr_test)\n",
    "\n",
    "#     ax.plot([0, 1], [0, 1], 'k--')\n",
    "\n",
    "#     ax.set_xlim([0.0, 1.0])\n",
    "#     ax.set_ylim([0.0, 1.05])\n",
    "#     ax.set_xlabel('False Positive Rate')\n",
    "#     ax.set_ylabel('True Positive Rate')\n",
    "#     ax.set_title('ROC curve')\n",
    "    \n",
    "#     train_text = 'train acc = {:.3f}, auc = {:.2f}'.format(acc_train, roc_auc_train)\n",
    "#     test_text = 'test acc = {:.3f}, auc = {:.2f}'.format(acc_test, roc_auc_test)\n",
    "#     ax.legend([train_text, test_text])\n",
    "\n",
    "def plot_auc(ax, y_train, y_train_pred, th=0.5):\n",
    "\n",
    "    y_train_pred_labels = (y_train_pred>th).astype(int)\n",
    "  \n",
    "    fpr_train, tpr_train, _ = roc_curve(y_train,y_train_pred)\n",
    "    roc_auc_train = auc(fpr_train, tpr_train)\n",
    "    acc_train = accuracy_score(y_train, y_train_pred_labels)\n",
    "\n",
    "  \n",
    "    ax.plot(fpr_train, tpr_train)\n",
    "  \n",
    "    ax.plot([0, 1], [0, 1], 'k--')\n",
    "\n",
    "    ax.set_xlim([0.0, 1.0])\n",
    "    ax.set_ylim([0.0, 1.05])\n",
    "    ax.set_xlabel('False Positive Rate')\n",
    "    ax.set_ylabel('True Positive Rate')\n",
    "    ax.set_title('ROC curve')\n",
    "    \n",
    "    train_text = 'train acc = {:.3f}, auc = {:.2f}'.format(acc_train, roc_auc_train)\n",
    "    ax.legend([train_text])\n",
    "\n",
    "\n",
    "# #Function to check whether the column has any outliers\n",
    "# # argument to be passed is the column name from the data frame\n",
    "\n",
    "# def any_outliers(x): \n",
    "#     return np.abs(x- x.median()) > 1.5*(x.quantile(.75)-x.quantile(0.25))\n",
    "\n",
    "\n",
    "# # Function to remove outliers\n",
    "# # argument is the column name from the data frame\n",
    "\n",
    "# def outlier_removal(y):\n",
    "#     arr = y\n",
    "#     elements = np.array(arr)\n",
    "#     mean = np.mean(elements, axis=0)\n",
    "#     sd = np.std(elements, axis=0)\n",
    "\n",
    "#     final_list = [x for x in arr if (x > mean - 2 * sd)]\n",
    "#     final_list = [x for x in final_list if (x < mean + 2 * sd)]\n",
    "#     return pd.DataFrame(final_list) \n",
    "\n",
    "# # Plot Density and Box Plot\n",
    "\n",
    "# def plot_graphs(z):\n",
    "#     plt.figure(figsize=(10,8))\n",
    "#     plt.subplot(211)\n",
    "#     plt.xlim(z.min(), z.max()*1.1)\n",
    "\n",
    "#     ax = z.plot(kind='kde')\n",
    "\n",
    "#     plt.subplot(212)\n",
    "#     plt.xlim(z.min(), z.max()*1.1)\n",
    "#     sns.boxplot(x=z)\n",
    "\n",
    "\n"
   ]
  },
  {
   "cell_type": "code",
   "execution_count": 31,
   "metadata": {},
   "outputs": [
    {
     "name": "stdout",
     "output_type": "stream",
     "text": [
      "\n",
      "\n",
      "train    79853\n",
      "test     34224\n",
      "Name: source, dtype: int64\n"
     ]
    },
    {
     "data": {
      "image/png": "[encoded data removed]",
      "text/plain": [
       "<Figure size 720x576 with 2 Axes>"
      ]
     },
     "metadata": {},
     "output_type": "display_data"
    }
   ],
   "source": [
    "i = 'Income'\n",
    " \n",
    "plt.figure(figsize=(10,8))\n",
    "plt.subplot(211)\n",
    "plt.xlim(data[i].min(), data[i].max()*1.1)\n",
    " \n",
    "ax = data[i].plot(kind='kde')\n",
    " \n",
    "plt.subplot(212)\n",
    "plt.xlim(data[i].min(), data[i].max()*1.1)\n",
    "sns.boxplot(x=data[i])\n",
    "\n",
    "print('\\n')\n",
    "print(data.source.value_counts())"
   ]
  },
  {
   "cell_type": "code",
   "execution_count": 32,
   "metadata": {},
   "outputs": [],
   "source": [
    "\n",
    "# Remove any zeros (otherwise we get (-inf)\n",
    "data.loc[data.Income == 0, 'Income'] = np.nan\n",
    " \n",
    "# # Drop NA\n",
    "# data.dropna(inplace=True)\n",
    " \n",
    "# Log Transform\n",
    "data['Log_' + i] = np.log(data[i])"
   ]
  },
  {
   "cell_type": "code",
   "execution_count": 33,
   "metadata": {},
   "outputs": [
    {
     "data": {
      "text/html": [
       "<div>\n",
       "<style scoped>\n",
       "    .dataframe tbody tr th:only-of-type {\n",
       "        vertical-align: middle;\n",
       "    }\n",
       "\n",
       "    .dataframe tbody tr th {\n",
       "        vertical-align: top;\n",
       "    }\n",
       "\n",
       "    .dataframe thead th {\n",
       "        text-align: right;\n",
       "    }\n",
       "</style>\n",
       "<table border=\"1\" class=\"dataframe\">\n",
       "  <thead>\n",
       "    <tr style=\"text-align: right;\">\n",
       "      <th></th>\n",
       "      <th>Count_3-6_months_late</th>\n",
       "      <th>Count_6-12_months_late</th>\n",
       "      <th>Count_more_than_12_months_late</th>\n",
       "      <th>Income</th>\n",
       "      <th>age_in_days</th>\n",
       "      <th>application_underwriting_score</th>\n",
       "      <th>id</th>\n",
       "      <th>no_of_premiums_paid</th>\n",
       "      <th>perc_premium_paid_by_cash_credit</th>\n",
       "      <th>premium</th>\n",
       "      <th>renewal</th>\n",
       "      <th>residence_area_type</th>\n",
       "      <th>source</th>\n",
       "      <th>sourcing_channel</th>\n",
       "      <th>Log_Income</th>\n",
       "    </tr>\n",
       "  </thead>\n",
       "  <tbody>\n",
       "    <tr>\n",
       "      <th>0</th>\n",
       "      <td>0.0</td>\n",
       "      <td>0.0</td>\n",
       "      <td>0.0</td>\n",
       "      <td>355060.0</td>\n",
       "      <td>12058</td>\n",
       "      <td>99.02</td>\n",
       "      <td>110936</td>\n",
       "      <td>13</td>\n",
       "      <td>0.429</td>\n",
       "      <td>3300</td>\n",
       "      <td>1.0</td>\n",
       "      <td>Urban</td>\n",
       "      <td>train</td>\n",
       "      <td>C</td>\n",
       "      <td>12.780042</td>\n",
       "    </tr>\n",
       "    <tr>\n",
       "      <th>1</th>\n",
       "      <td>0.0</td>\n",
       "      <td>0.0</td>\n",
       "      <td>0.0</td>\n",
       "      <td>315150.0</td>\n",
       "      <td>21546</td>\n",
       "      <td>99.89</td>\n",
       "      <td>41492</td>\n",
       "      <td>21</td>\n",
       "      <td>0.010</td>\n",
       "      <td>18000</td>\n",
       "      <td>1.0</td>\n",
       "      <td>Urban</td>\n",
       "      <td>train</td>\n",
       "      <td>A</td>\n",
       "      <td>12.660804</td>\n",
       "    </tr>\n",
       "    <tr>\n",
       "      <th>2</th>\n",
       "      <td>2.0</td>\n",
       "      <td>3.0</td>\n",
       "      <td>1.0</td>\n",
       "      <td>84140.0</td>\n",
       "      <td>17531</td>\n",
       "      <td>98.69</td>\n",
       "      <td>31300</td>\n",
       "      <td>7</td>\n",
       "      <td>0.917</td>\n",
       "      <td>3300</td>\n",
       "      <td>0.0</td>\n",
       "      <td>Rural</td>\n",
       "      <td>train</td>\n",
       "      <td>C</td>\n",
       "      <td>11.340237</td>\n",
       "    </tr>\n",
       "    <tr>\n",
       "      <th>3</th>\n",
       "      <td>0.0</td>\n",
       "      <td>0.0</td>\n",
       "      <td>0.0</td>\n",
       "      <td>250510.0</td>\n",
       "      <td>15341</td>\n",
       "      <td>99.57</td>\n",
       "      <td>19415</td>\n",
       "      <td>9</td>\n",
       "      <td>0.049</td>\n",
       "      <td>9600</td>\n",
       "      <td>1.0</td>\n",
       "      <td>Urban</td>\n",
       "      <td>train</td>\n",
       "      <td>A</td>\n",
       "      <td>12.431254</td>\n",
       "    </tr>\n",
       "    <tr>\n",
       "      <th>4</th>\n",
       "      <td>0.0</td>\n",
       "      <td>0.0</td>\n",
       "      <td>0.0</td>\n",
       "      <td>198680.0</td>\n",
       "      <td>31400</td>\n",
       "      <td>99.87</td>\n",
       "      <td>99379</td>\n",
       "      <td>12</td>\n",
       "      <td>0.052</td>\n",
       "      <td>9600</td>\n",
       "      <td>1.0</td>\n",
       "      <td>Urban</td>\n",
       "      <td>train</td>\n",
       "      <td>B</td>\n",
       "      <td>12.199451</td>\n",
       "    </tr>\n",
       "  </tbody>\n",
       "</table>\n",
       "</div>"
      ],
      "text/plain": [
       "   Count_3-6_months_late  Count_6-12_months_late  \\\n",
       "0                    0.0                     0.0   \n",
       "1                    0.0                     0.0   \n",
       "2                    2.0                     3.0   \n",
       "3                    0.0                     0.0   \n",
       "4                    0.0                     0.0   \n",
       "\n",
       "   Count_more_than_12_months_late    Income  age_in_days  \\\n",
       "0                             0.0  355060.0        12058   \n",
       "1                             0.0  315150.0        21546   \n",
       "2                             1.0   84140.0        17531   \n",
       "3                             0.0  250510.0        15341   \n",
       "4                             0.0  198680.0        31400   \n",
       "\n",
       "   application_underwriting_score      id  no_of_premiums_paid  \\\n",
       "0                           99.02  110936                   13   \n",
       "1                           99.89   41492                   21   \n",
       "2                           98.69   31300                    7   \n",
       "3                           99.57   19415                    9   \n",
       "4                           99.87   99379                   12   \n",
       "\n",
       "   perc_premium_paid_by_cash_credit  premium  renewal residence_area_type  \\\n",
       "0                             0.429     3300      1.0               Urban   \n",
       "1                             0.010    18000      1.0               Urban   \n",
       "2                             0.917     3300      0.0               Rural   \n",
       "3                             0.049     9600      1.0               Urban   \n",
       "4                             0.052     9600      1.0               Urban   \n",
       "\n",
       "  source sourcing_channel  Log_Income  \n",
       "0  train                C   12.780042  \n",
       "1  train                A   12.660804  \n",
       "2  train                C   11.340237  \n",
       "3  train                A   12.431254  \n",
       "4  train                B   12.199451  "
      ]
     },
     "execution_count": 33,
     "metadata": {},
     "output_type": "execute_result"
    }
   ],
   "source": [
    "data.head()"
   ]
  },
  {
   "cell_type": "code",
   "execution_count": 34,
   "metadata": {},
   "outputs": [
    {
     "name": "stdout",
     "output_type": "stream",
     "text": [
      "\n",
      "\n",
      "train    79853\n",
      "test     34224\n",
      "Name: source, dtype: int64\n"
     ]
    },
    {
     "data": {
      "image/png": "[encoded data removed]",
      "text/plain": [
       "<Figure size 720x576 with 2 Axes>"
      ]
     },
     "metadata": {},
     "output_type": "display_data"
    }
   ],
   "source": [
    "i = 'Log_Income'\n",
    " \n",
    "plt.figure(figsize=(10,8))\n",
    "plt.subplot(211)\n",
    "plt.xlim(data[i].min(), data[i].max()*1.1)\n",
    " \n",
    "ax = data[i].plot(kind='kde')\n",
    " \n",
    "plt.subplot(212)\n",
    "plt.xlim(data[i].min(), data[i].max()*1.1)\n",
    "sns.boxplot(x=data[i])\n",
    "\n",
    "print('\\n')\n",
    "print(data.source.value_counts())"
   ]
  },
  {
   "cell_type": "code",
   "execution_count": 35,
   "metadata": {},
   "outputs": [
    {
     "data": {
      "text/plain": [
       "<matplotlib.axes._subplots.AxesSubplot at 0x294f6e28b70>"
      ]
     },
     "execution_count": 35,
     "metadata": {},
     "output_type": "execute_result"
    },
    {
     "data": {
      "image/png": "[encoded data removed]",
      "text/plain": [
       "<Figure size 720x576 with 2 Axes>"
      ]
     },
     "metadata": {},
     "output_type": "display_data"
    }
   ],
   "source": [
    "i = 'age_in_days'\n",
    " \n",
    "plt.figure(figsize=(10,8))\n",
    "plt.subplot(211)\n",
    "plt.xlim(data[i].min(), data[i].max()*1.1)\n",
    " \n",
    "ax = data[i].plot(kind='kde')\n",
    " \n",
    "plt.subplot(212)\n",
    "plt.xlim(data[i].min(), data[i].max()*1.1)\n",
    "sns.boxplot(x=data[i])"
   ]
  },
  {
   "cell_type": "code",
   "execution_count": 36,
   "metadata": {},
   "outputs": [],
   "source": [
    "# Remove any zeros (otherwise we get (-inf)\n",
    "#data.loc[data.age_in_days == 0, 'age_in_days'] = np.nan\n",
    " \n",
    "# # Drop NA\n",
    "# data.dropna(inplace=True)\n",
    " \n",
    "# Log Transform\n",
    "data['Log_' + i] = np.log(data[i])"
   ]
  },
  {
   "cell_type": "code",
   "execution_count": 37,
   "metadata": {},
   "outputs": [
    {
     "data": {
      "text/plain": [
       "<matplotlib.axes._subplots.AxesSubplot at 0x294f74ac400>"
      ]
     },
     "execution_count": 37,
     "metadata": {},
     "output_type": "execute_result"
    },
    {
     "data": {
      "image/png": "[encoded data removed]",
      "text/plain": [
       "<Figure size 720x576 with 2 Axes>"
      ]
     },
     "metadata": {},
     "output_type": "display_data"
    }
   ],
   "source": [
    "i = 'Log_age_in_days'\n",
    " \n",
    "plt.figure(figsize=(10,8))\n",
    "plt.subplot(211)\n",
    "plt.xlim(data[i].min(), data[i].max()*1.1)\n",
    " \n",
    "ax = data[i].plot(kind='kde')\n",
    " \n",
    "plt.subplot(212)\n",
    "plt.xlim(data[i].min(), data[i].max()*1.1)\n",
    "sns.boxplot(x=data[i])"
   ]
  },
  {
   "cell_type": "code",
   "execution_count": 38,
   "metadata": {},
   "outputs": [
    {
     "data": {
      "text/html": [
       "<div>\n",
       "<style scoped>\n",
       "    .dataframe tbody tr th:only-of-type {\n",
       "        vertical-align: middle;\n",
       "    }\n",
       "\n",
       "    .dataframe tbody tr th {\n",
       "        vertical-align: top;\n",
       "    }\n",
       "\n",
       "    .dataframe thead th {\n",
       "        text-align: right;\n",
       "    }\n",
       "</style>\n",
       "<table border=\"1\" class=\"dataframe\">\n",
       "  <thead>\n",
       "    <tr style=\"text-align: right;\">\n",
       "      <th></th>\n",
       "      <th>Count_3-6_months_late</th>\n",
       "      <th>Count_6-12_months_late</th>\n",
       "      <th>Count_more_than_12_months_late</th>\n",
       "      <th>Income</th>\n",
       "      <th>age_in_days</th>\n",
       "      <th>application_underwriting_score</th>\n",
       "      <th>id</th>\n",
       "      <th>no_of_premiums_paid</th>\n",
       "      <th>perc_premium_paid_by_cash_credit</th>\n",
       "      <th>premium</th>\n",
       "      <th>renewal</th>\n",
       "      <th>residence_area_type</th>\n",
       "      <th>source</th>\n",
       "      <th>sourcing_channel</th>\n",
       "      <th>Log_Income</th>\n",
       "      <th>Log_age_in_days</th>\n",
       "    </tr>\n",
       "  </thead>\n",
       "  <tbody>\n",
       "    <tr>\n",
       "      <th>0</th>\n",
       "      <td>0.0</td>\n",
       "      <td>0.0</td>\n",
       "      <td>0.0</td>\n",
       "      <td>355060.0</td>\n",
       "      <td>12058</td>\n",
       "      <td>99.02</td>\n",
       "      <td>110936</td>\n",
       "      <td>13</td>\n",
       "      <td>0.429</td>\n",
       "      <td>3300</td>\n",
       "      <td>1.0</td>\n",
       "      <td>Urban</td>\n",
       "      <td>train</td>\n",
       "      <td>C</td>\n",
       "      <td>12.780042</td>\n",
       "      <td>9.397484</td>\n",
       "    </tr>\n",
       "    <tr>\n",
       "      <th>1</th>\n",
       "      <td>0.0</td>\n",
       "      <td>0.0</td>\n",
       "      <td>0.0</td>\n",
       "      <td>315150.0</td>\n",
       "      <td>21546</td>\n",
       "      <td>99.89</td>\n",
       "      <td>41492</td>\n",
       "      <td>21</td>\n",
       "      <td>0.010</td>\n",
       "      <td>18000</td>\n",
       "      <td>1.0</td>\n",
       "      <td>Urban</td>\n",
       "      <td>train</td>\n",
       "      <td>A</td>\n",
       "      <td>12.660804</td>\n",
       "      <td>9.977945</td>\n",
       "    </tr>\n",
       "    <tr>\n",
       "      <th>2</th>\n",
       "      <td>2.0</td>\n",
       "      <td>3.0</td>\n",
       "      <td>1.0</td>\n",
       "      <td>84140.0</td>\n",
       "      <td>17531</td>\n",
       "      <td>98.69</td>\n",
       "      <td>31300</td>\n",
       "      <td>7</td>\n",
       "      <td>0.917</td>\n",
       "      <td>3300</td>\n",
       "      <td>0.0</td>\n",
       "      <td>Rural</td>\n",
       "      <td>train</td>\n",
       "      <td>C</td>\n",
       "      <td>11.340237</td>\n",
       "      <td>9.771726</td>\n",
       "    </tr>\n",
       "    <tr>\n",
       "      <th>3</th>\n",
       "      <td>0.0</td>\n",
       "      <td>0.0</td>\n",
       "      <td>0.0</td>\n",
       "      <td>250510.0</td>\n",
       "      <td>15341</td>\n",
       "      <td>99.57</td>\n",
       "      <td>19415</td>\n",
       "      <td>9</td>\n",
       "      <td>0.049</td>\n",
       "      <td>9600</td>\n",
       "      <td>1.0</td>\n",
       "      <td>Urban</td>\n",
       "      <td>train</td>\n",
       "      <td>A</td>\n",
       "      <td>12.431254</td>\n",
       "      <td>9.638284</td>\n",
       "    </tr>\n",
       "    <tr>\n",
       "      <th>4</th>\n",
       "      <td>0.0</td>\n",
       "      <td>0.0</td>\n",
       "      <td>0.0</td>\n",
       "      <td>198680.0</td>\n",
       "      <td>31400</td>\n",
       "      <td>99.87</td>\n",
       "      <td>99379</td>\n",
       "      <td>12</td>\n",
       "      <td>0.052</td>\n",
       "      <td>9600</td>\n",
       "      <td>1.0</td>\n",
       "      <td>Urban</td>\n",
       "      <td>train</td>\n",
       "      <td>B</td>\n",
       "      <td>12.199451</td>\n",
       "      <td>10.354563</td>\n",
       "    </tr>\n",
       "  </tbody>\n",
       "</table>\n",
       "</div>"
      ],
      "text/plain": [
       "   Count_3-6_months_late  Count_6-12_months_late  \\\n",
       "0                    0.0                     0.0   \n",
       "1                    0.0                     0.0   \n",
       "2                    2.0                     3.0   \n",
       "3                    0.0                     0.0   \n",
       "4                    0.0                     0.0   \n",
       "\n",
       "   Count_more_than_12_months_late    Income  age_in_days  \\\n",
       "0                             0.0  355060.0        12058   \n",
       "1                             0.0  315150.0        21546   \n",
       "2                             1.0   84140.0        17531   \n",
       "3                             0.0  250510.0        15341   \n",
       "4                             0.0  198680.0        31400   \n",
       "\n",
       "   application_underwriting_score      id  no_of_premiums_paid  \\\n",
       "0                           99.02  110936                   13   \n",
       "1                           99.89   41492                   21   \n",
       "2                           98.69   31300                    7   \n",
       "3                           99.57   19415                    9   \n",
       "4                           99.87   99379                   12   \n",
       "\n",
       "   perc_premium_paid_by_cash_credit  premium  renewal residence_area_type  \\\n",
       "0                             0.429     3300      1.0               Urban   \n",
       "1                             0.010    18000      1.0               Urban   \n",
       "2                             0.917     3300      0.0               Rural   \n",
       "3                             0.049     9600      1.0               Urban   \n",
       "4                             0.052     9600      1.0               Urban   \n",
       "\n",
       "  source sourcing_channel  Log_Income  Log_age_in_days  \n",
       "0  train                C   12.780042         9.397484  \n",
       "1  train                A   12.660804         9.977945  \n",
       "2  train                C   11.340237         9.771726  \n",
       "3  train                A   12.431254         9.638284  \n",
       "4  train                B   12.199451        10.354563  "
      ]
     },
     "execution_count": 38,
     "metadata": {},
     "output_type": "execute_result"
    }
   ],
   "source": [
    "data.head()"
   ]
  },
  {
   "cell_type": "code",
   "execution_count": 39,
   "metadata": {},
   "outputs": [
    {
     "data": {
      "text/plain": [
       "<matplotlib.axes._subplots.AxesSubplot at 0x294f7558c18>"
      ]
     },
     "execution_count": 39,
     "metadata": {},
     "output_type": "execute_result"
    },
    {
     "data": {
      "image/png": "[encoded data removed]",
      "text/plain": [
       "<Figure size 720x576 with 2 Axes>"
      ]
     },
     "metadata": {},
     "output_type": "display_data"
    }
   ],
   "source": [
    "i = 'application_underwriting_score'\n",
    " \n",
    "plt.figure(figsize=(10,8))\n",
    "plt.subplot(211)\n",
    "plt.xlim(data[i].min(), data[i].max()*1.1)\n",
    " \n",
    "ax = data[i].plot(kind='kde')\n",
    " \n",
    "plt.subplot(212)\n",
    "plt.xlim(data[i].min(), data[i].max()*1.1)\n",
    "sns.boxplot(x=data[i])"
   ]
  },
  {
   "cell_type": "code",
   "execution_count": 40,
   "metadata": {},
   "outputs": [],
   "source": [
    "# Remove any zeros (otherwise we get (-inf)\n",
    "#data.loc[data.application_underwriting_score == 0, 'application_underwriting_score'] = np.nan\n",
    " \n",
    "# # Drop NA\n",
    "# data.dropna(inplace=True)\n",
    " \n",
    "# Log Transform\n",
    "data['Log_' + i] = np.log(data[i])"
   ]
  },
  {
   "cell_type": "code",
   "execution_count": 41,
   "metadata": {},
   "outputs": [
    {
     "data": {
      "text/plain": [
       "<matplotlib.axes._subplots.AxesSubplot at 0x294f76492e8>"
      ]
     },
     "execution_count": 41,
     "metadata": {},
     "output_type": "execute_result"
    },
    {
     "data": {
      "image/png": "[encoded data removed]",
      "text/plain": [
       "<Figure size 720x576 with 2 Axes>"
      ]
     },
     "metadata": {},
     "output_type": "display_data"
    }
   ],
   "source": [
    "i = 'Log_application_underwriting_score'\n",
    " \n",
    "plt.figure(figsize=(10,8))\n",
    "plt.subplot(211)\n",
    "plt.xlim(data[i].min(), data[i].max()*1.1)\n",
    " \n",
    "ax = data[i].plot(kind='kde')\n",
    " \n",
    "plt.subplot(212)\n",
    "plt.xlim(data[i].min(), data[i].max()*1.1)\n",
    "sns.boxplot(x=data[i])"
   ]
  },
  {
   "cell_type": "code",
   "execution_count": 42,
   "metadata": {},
   "outputs": [
    {
     "data": {
      "text/plain": [
       "<matplotlib.axes._subplots.AxesSubplot at 0x294f87e5f60>"
      ]
     },
     "execution_count": 42,
     "metadata": {},
     "output_type": "execute_result"
    },
    {
     "data": {
      "image/png": "[encoded data removed]",
      "text/plain": [
       "<Figure size 720x576 with 2 Axes>"
      ]
     },
     "metadata": {},
     "output_type": "display_data"
    }
   ],
   "source": [
    "i = 'no_of_premiums_paid'\n",
    " \n",
    "plt.figure(figsize=(10,8))\n",
    "plt.subplot(211)\n",
    "plt.xlim(data[i].min(), data[i].max()*1.1)\n",
    " \n",
    "ax = data[i].plot(kind='kde')\n",
    " \n",
    "plt.subplot(212)\n",
    "plt.xlim(data[i].min(), data[i].max()*1.1)\n",
    "sns.boxplot(x=data[i])"
   ]
  },
  {
   "cell_type": "code",
   "execution_count": 43,
   "metadata": {},
   "outputs": [],
   "source": [
    "# Remove any zeros (otherwise we get (-inf)\n",
    "#data.loc[data.no_of_premiums_paid == 0, 'no_of_premiums_paid'] = np.nan\n",
    " \n",
    "# # Drop NA\n",
    "# data.dropna(inplace=True)\n",
    " \n",
    "# Log Transform\n",
    "data['Log_' + i] = np.log(data[i])"
   ]
  },
  {
   "cell_type": "code",
   "execution_count": 44,
   "metadata": {},
   "outputs": [
    {
     "data": {
      "text/plain": [
       "<matplotlib.axes._subplots.AxesSubplot at 0x294f7d3c860>"
      ]
     },
     "execution_count": 44,
     "metadata": {},
     "output_type": "execute_result"
    },
    {
     "data": {
      "image/png": "[encoded data removed]",
      "text/plain": [
       "<Figure size 720x576 with 2 Axes>"
      ]
     },
     "metadata": {},
     "output_type": "display_data"
    }
   ],
   "source": [
    "i = 'Log_no_of_premiums_paid'\n",
    " \n",
    "plt.figure(figsize=(10,8))\n",
    "plt.subplot(211)\n",
    "plt.xlim(data[i].min(), data[i].max()*1.1)\n",
    " \n",
    "ax = data[i].plot(kind='kde')\n",
    " \n",
    "plt.subplot(212)\n",
    "plt.xlim(data[i].min(), data[i].max()*1.1)\n",
    "sns.boxplot(x=data[i])"
   ]
  },
  {
   "cell_type": "code",
   "execution_count": 45,
   "metadata": {},
   "outputs": [
    {
     "data": {
      "text/plain": [
       "<matplotlib.axes._subplots.AxesSubplot at 0x294f7e58668>"
      ]
     },
     "execution_count": 45,
     "metadata": {},
     "output_type": "execute_result"
    },
    {
     "data": {
      "image/png": "[encoded data removed]",
      "text/plain": [
       "<Figure size 720x576 with 2 Axes>"
      ]
     },
     "metadata": {},
     "output_type": "display_data"
    }
   ],
   "source": [
    "i = 'premium'\n",
    " \n",
    "plt.figure(figsize=(10,8))\n",
    "plt.subplot(211)\n",
    "plt.xlim(data[i].min(), data[i].max()*1.1)\n",
    " \n",
    "ax = data[i].plot(kind='kde')\n",
    " \n",
    "plt.subplot(212)\n",
    "plt.xlim(data[i].min(), data[i].max()*1.1)\n",
    "sns.boxplot(x=data[i])"
   ]
  },
  {
   "cell_type": "code",
   "execution_count": 46,
   "metadata": {},
   "outputs": [],
   "source": [
    "# Remove any zeros (otherwise we get (-inf)\n",
    "# data.loc[data.premium == 0, 'premium'] = np.nan\n",
    " \n",
    "# # Drop NA\n",
    "# data.dropna(inplace=True)\n",
    " \n",
    "# Log Transform\n",
    "data['Log_' + i] = np.log(data[i])"
   ]
  },
  {
   "cell_type": "code",
   "execution_count": 47,
   "metadata": {},
   "outputs": [
    {
     "data": {
      "text/plain": [
       "<matplotlib.axes._subplots.AxesSubplot at 0x294f882dc88>"
      ]
     },
     "execution_count": 47,
     "metadata": {},
     "output_type": "execute_result"
    },
    {
     "data": {
      "image/png": "[encoded data removed]",
      "text/plain": [
       "<Figure size 720x576 with 2 Axes>"
      ]
     },
     "metadata": {},
     "output_type": "display_data"
    }
   ],
   "source": [
    "i = 'Log_premium'\n",
    " \n",
    "plt.figure(figsize=(10,8))\n",
    "plt.subplot(211)\n",
    "plt.xlim(data[i].min(), data[i].max()*1.1)\n",
    " \n",
    "ax = data[i].plot(kind='kde')\n",
    " \n",
    "plt.subplot(212)\n",
    "plt.xlim(data[i].min(), data[i].max()*1.1)\n",
    "sns.boxplot(x=data[i])"
   ]
  },
  {
   "cell_type": "code",
   "execution_count": 48,
   "metadata": {},
   "outputs": [
    {
     "data": {
      "text/plain": [
       "Count_3-6_months_late                     14\n",
       "Count_6-12_months_late                    17\n",
       "Count_more_than_12_months_late            10\n",
       "Income                                 28925\n",
       "age_in_days                              838\n",
       "application_underwriting_score           714\n",
       "id                                    114077\n",
       "no_of_premiums_paid                       58\n",
       "perc_premium_paid_by_cash_credit        1001\n",
       "premium                                   30\n",
       "renewal                                    3\n",
       "residence_area_type                        2\n",
       "source                                     2\n",
       "sourcing_channel                           5\n",
       "Log_Income                             28925\n",
       "Log_age_in_days                          838\n",
       "Log_application_underwriting_score       714\n",
       "Log_no_of_premiums_paid                   58\n",
       "Log_premium                               30\n",
       "dtype: int64"
      ]
     },
     "execution_count": 48,
     "metadata": {},
     "output_type": "execute_result"
    }
   ],
   "source": [
    "data.apply(lambda x: len(x.unique()))"
   ]
  },
  {
   "cell_type": "code",
   "execution_count": 49,
   "metadata": {},
   "outputs": [
    {
     "data": {
      "text/plain": [
       "Count_3-6_months_late                 float64\n",
       "Count_6-12_months_late                float64\n",
       "Count_more_than_12_months_late        float64\n",
       "Income                                float64\n",
       "age_in_days                             int64\n",
       "application_underwriting_score        float64\n",
       "id                                      int64\n",
       "no_of_premiums_paid                     int64\n",
       "perc_premium_paid_by_cash_credit      float64\n",
       "premium                                 int64\n",
       "renewal                               float64\n",
       "residence_area_type                     int64\n",
       "source                                 object\n",
       "sourcing_channel                        int64\n",
       "Log_Income                            float64\n",
       "Log_age_in_days                       float64\n",
       "Log_application_underwriting_score    float64\n",
       "Log_no_of_premiums_paid               float64\n",
       "Log_premium                           float64\n",
       "dtype: object"
      ]
     },
     "execution_count": 49,
     "metadata": {},
     "output_type": "execute_result"
    }
   ],
   "source": [
    "from sklearn.preprocessing import LabelEncoder\n",
    "\n",
    "var_mod = ['residence_area_type','sourcing_channel']\n",
    "\n",
    "le = LabelEncoder()\n",
    "\n",
    "for i in var_mod:\n",
    "    data[i] = le.fit_transform(data[i].astype(str))\n",
    "\n",
    "data.dtypes "
   ]
  },
  {
   "cell_type": "code",
   "execution_count": 50,
   "metadata": {},
   "outputs": [
    {
     "data": {
      "text/html": [
       "<div>\n",
       "<style scoped>\n",
       "    .dataframe tbody tr th:only-of-type {\n",
       "        vertical-align: middle;\n",
       "    }\n",
       "\n",
       "    .dataframe tbody tr th {\n",
       "        vertical-align: top;\n",
       "    }\n",
       "\n",
       "    .dataframe thead th {\n",
       "        text-align: right;\n",
       "    }\n",
       "</style>\n",
       "<table border=\"1\" class=\"dataframe\">\n",
       "  <thead>\n",
       "    <tr style=\"text-align: right;\">\n",
       "      <th></th>\n",
       "      <th>Count_3-6_months_late</th>\n",
       "      <th>Count_6-12_months_late</th>\n",
       "      <th>Count_more_than_12_months_late</th>\n",
       "      <th>Income</th>\n",
       "      <th>age_in_days</th>\n",
       "      <th>application_underwriting_score</th>\n",
       "      <th>id</th>\n",
       "      <th>no_of_premiums_paid</th>\n",
       "      <th>perc_premium_paid_by_cash_credit</th>\n",
       "      <th>premium</th>\n",
       "      <th>renewal</th>\n",
       "      <th>residence_area_type</th>\n",
       "      <th>source</th>\n",
       "      <th>sourcing_channel</th>\n",
       "      <th>Log_Income</th>\n",
       "      <th>Log_age_in_days</th>\n",
       "      <th>Log_application_underwriting_score</th>\n",
       "      <th>Log_no_of_premiums_paid</th>\n",
       "      <th>Log_premium</th>\n",
       "    </tr>\n",
       "  </thead>\n",
       "  <tbody>\n",
       "    <tr>\n",
       "      <th>0</th>\n",
       "      <td>0.0</td>\n",
       "      <td>0.0</td>\n",
       "      <td>0.0</td>\n",
       "      <td>355060.0</td>\n",
       "      <td>12058</td>\n",
       "      <td>99.02</td>\n",
       "      <td>110936</td>\n",
       "      <td>13</td>\n",
       "      <td>0.429</td>\n",
       "      <td>3300</td>\n",
       "      <td>1.0</td>\n",
       "      <td>1</td>\n",
       "      <td>train</td>\n",
       "      <td>2</td>\n",
       "      <td>12.780042</td>\n",
       "      <td>9.397484</td>\n",
       "      <td>4.595322</td>\n",
       "      <td>2.564949</td>\n",
       "      <td>8.101678</td>\n",
       "    </tr>\n",
       "    <tr>\n",
       "      <th>1</th>\n",
       "      <td>0.0</td>\n",
       "      <td>0.0</td>\n",
       "      <td>0.0</td>\n",
       "      <td>315150.0</td>\n",
       "      <td>21546</td>\n",
       "      <td>99.89</td>\n",
       "      <td>41492</td>\n",
       "      <td>21</td>\n",
       "      <td>0.010</td>\n",
       "      <td>18000</td>\n",
       "      <td>1.0</td>\n",
       "      <td>1</td>\n",
       "      <td>train</td>\n",
       "      <td>0</td>\n",
       "      <td>12.660804</td>\n",
       "      <td>9.977945</td>\n",
       "      <td>4.604070</td>\n",
       "      <td>3.044522</td>\n",
       "      <td>9.798127</td>\n",
       "    </tr>\n",
       "    <tr>\n",
       "      <th>2</th>\n",
       "      <td>2.0</td>\n",
       "      <td>3.0</td>\n",
       "      <td>1.0</td>\n",
       "      <td>84140.0</td>\n",
       "      <td>17531</td>\n",
       "      <td>98.69</td>\n",
       "      <td>31300</td>\n",
       "      <td>7</td>\n",
       "      <td>0.917</td>\n",
       "      <td>3300</td>\n",
       "      <td>0.0</td>\n",
       "      <td>0</td>\n",
       "      <td>train</td>\n",
       "      <td>2</td>\n",
       "      <td>11.340237</td>\n",
       "      <td>9.771726</td>\n",
       "      <td>4.591984</td>\n",
       "      <td>1.945910</td>\n",
       "      <td>8.101678</td>\n",
       "    </tr>\n",
       "    <tr>\n",
       "      <th>3</th>\n",
       "      <td>0.0</td>\n",
       "      <td>0.0</td>\n",
       "      <td>0.0</td>\n",
       "      <td>250510.0</td>\n",
       "      <td>15341</td>\n",
       "      <td>99.57</td>\n",
       "      <td>19415</td>\n",
       "      <td>9</td>\n",
       "      <td>0.049</td>\n",
       "      <td>9600</td>\n",
       "      <td>1.0</td>\n",
       "      <td>1</td>\n",
       "      <td>train</td>\n",
       "      <td>0</td>\n",
       "      <td>12.431254</td>\n",
       "      <td>9.638284</td>\n",
       "      <td>4.600861</td>\n",
       "      <td>2.197225</td>\n",
       "      <td>9.169518</td>\n",
       "    </tr>\n",
       "    <tr>\n",
       "      <th>4</th>\n",
       "      <td>0.0</td>\n",
       "      <td>0.0</td>\n",
       "      <td>0.0</td>\n",
       "      <td>198680.0</td>\n",
       "      <td>31400</td>\n",
       "      <td>99.87</td>\n",
       "      <td>99379</td>\n",
       "      <td>12</td>\n",
       "      <td>0.052</td>\n",
       "      <td>9600</td>\n",
       "      <td>1.0</td>\n",
       "      <td>1</td>\n",
       "      <td>train</td>\n",
       "      <td>1</td>\n",
       "      <td>12.199451</td>\n",
       "      <td>10.354563</td>\n",
       "      <td>4.603869</td>\n",
       "      <td>2.484907</td>\n",
       "      <td>9.169518</td>\n",
       "    </tr>\n",
       "  </tbody>\n",
       "</table>\n",
       "</div>"
      ],
      "text/plain": [
       "   Count_3-6_months_late  Count_6-12_months_late  \\\n",
       "0                    0.0                     0.0   \n",
       "1                    0.0                     0.0   \n",
       "2                    2.0                     3.0   \n",
       "3                    0.0                     0.0   \n",
       "4                    0.0                     0.0   \n",
       "\n",
       "   Count_more_than_12_months_late    Income  age_in_days  \\\n",
       "0                             0.0  355060.0        12058   \n",
       "1                             0.0  315150.0        21546   \n",
       "2                             1.0   84140.0        17531   \n",
       "3                             0.0  250510.0        15341   \n",
       "4                             0.0  198680.0        31400   \n",
       "\n",
       "   application_underwriting_score      id  no_of_premiums_paid  \\\n",
       "0                           99.02  110936                   13   \n",
       "1                           99.89   41492                   21   \n",
       "2                           98.69   31300                    7   \n",
       "3                           99.57   19415                    9   \n",
       "4                           99.87   99379                   12   \n",
       "\n",
       "   perc_premium_paid_by_cash_credit  premium  renewal  residence_area_type  \\\n",
       "0                             0.429     3300      1.0                    1   \n",
       "1                             0.010    18000      1.0                    1   \n",
       "2                             0.917     3300      0.0                    0   \n",
       "3                             0.049     9600      1.0                    1   \n",
       "4                             0.052     9600      1.0                    1   \n",
       "\n",
       "  source  sourcing_channel  Log_Income  Log_age_in_days  \\\n",
       "0  train                 2   12.780042         9.397484   \n",
       "1  train                 0   12.660804         9.977945   \n",
       "2  train                 2   11.340237         9.771726   \n",
       "3  train                 0   12.431254         9.638284   \n",
       "4  train                 1   12.199451        10.354563   \n",
       "\n",
       "   Log_application_underwriting_score  Log_no_of_premiums_paid  Log_premium  \n",
       "0                            4.595322                 2.564949     8.101678  \n",
       "1                            4.604070                 3.044522     9.798127  \n",
       "2                            4.591984                 1.945910     8.101678  \n",
       "3                            4.600861                 2.197225     9.169518  \n",
       "4                            4.603869                 2.484907     9.169518  "
      ]
     },
     "execution_count": 50,
     "metadata": {},
     "output_type": "execute_result"
    }
   ],
   "source": [
    "data.head()"
   ]
  },
  {
   "cell_type": "code",
   "execution_count": 51,
   "metadata": {},
   "outputs": [],
   "source": [
    "from sklearn import preprocessing\n",
    "\n",
    "\n",
    "\n",
    "cols_to_scale = ['Count_3-6_months_late','Count_6-12_months_late','Count_more_than_12_months_late','perc_premium_paid_by_cash_credit','residence_area_type','sourcing_channel','Log_Income','Log_age_in_days','Log_application_underwriting_score','Log_no_of_premiums_paid','Log_premium' ]\n",
    "\n",
    "min_max_scaler = preprocessing.MinMaxScaler()\n",
    "\n",
    "for col in cols_to_scale:\n",
    "    data[col] = pd.DataFrame(min_max_scaler.fit_transform(pd.DataFrame(data[col])),columns=[col])\n",
    "\n"
   ]
  },
  {
   "cell_type": "code",
   "execution_count": 52,
   "metadata": {},
   "outputs": [
    {
     "data": {
      "text/html": [
       "<div>\n",
       "<style scoped>\n",
       "    .dataframe tbody tr th:only-of-type {\n",
       "        vertical-align: middle;\n",
       "    }\n",
       "\n",
       "    .dataframe tbody tr th {\n",
       "        vertical-align: top;\n",
       "    }\n",
       "\n",
       "    .dataframe thead th {\n",
       "        text-align: right;\n",
       "    }\n",
       "</style>\n",
       "<table border=\"1\" class=\"dataframe\">\n",
       "  <thead>\n",
       "    <tr style=\"text-align: right;\">\n",
       "      <th></th>\n",
       "      <th>Count_3-6_months_late</th>\n",
       "      <th>Count_6-12_months_late</th>\n",
       "      <th>Count_more_than_12_months_late</th>\n",
       "      <th>Income</th>\n",
       "      <th>age_in_days</th>\n",
       "      <th>application_underwriting_score</th>\n",
       "      <th>id</th>\n",
       "      <th>no_of_premiums_paid</th>\n",
       "      <th>perc_premium_paid_by_cash_credit</th>\n",
       "      <th>premium</th>\n",
       "      <th>renewal</th>\n",
       "      <th>residence_area_type</th>\n",
       "      <th>source</th>\n",
       "      <th>sourcing_channel</th>\n",
       "      <th>Log_Income</th>\n",
       "      <th>Log_age_in_days</th>\n",
       "      <th>Log_application_underwriting_score</th>\n",
       "      <th>Log_no_of_premiums_paid</th>\n",
       "      <th>Log_premium</th>\n",
       "    </tr>\n",
       "  </thead>\n",
       "  <tbody>\n",
       "    <tr>\n",
       "      <th>0</th>\n",
       "      <td>0.000000</td>\n",
       "      <td>0.000000</td>\n",
       "      <td>0.000000</td>\n",
       "      <td>355060.0</td>\n",
       "      <td>12058</td>\n",
       "      <td>99.02</td>\n",
       "      <td>110936</td>\n",
       "      <td>13</td>\n",
       "      <td>0.429</td>\n",
       "      <td>3300</td>\n",
       "      <td>1.0</td>\n",
       "      <td>1.0</td>\n",
       "      <td>train</td>\n",
       "      <td>0.50</td>\n",
       "      <td>0.327169</td>\n",
       "      <td>0.284582</td>\n",
       "      <td>0.895072</td>\n",
       "      <td>0.550336</td>\n",
       "      <td>0.258588</td>\n",
       "    </tr>\n",
       "    <tr>\n",
       "      <th>1</th>\n",
       "      <td>0.000000</td>\n",
       "      <td>0.000000</td>\n",
       "      <td>0.000000</td>\n",
       "      <td>315150.0</td>\n",
       "      <td>21546</td>\n",
       "      <td>99.89</td>\n",
       "      <td>41492</td>\n",
       "      <td>21</td>\n",
       "      <td>0.010</td>\n",
       "      <td>18000</td>\n",
       "      <td>1.0</td>\n",
       "      <td>1.0</td>\n",
       "      <td>train</td>\n",
       "      <td>0.00</td>\n",
       "      <td>0.312683</td>\n",
       "      <td>0.649712</td>\n",
       "      <td>1.000000</td>\n",
       "      <td>0.691337</td>\n",
       "      <td>0.692238</td>\n",
       "    </tr>\n",
       "    <tr>\n",
       "      <th>2</th>\n",
       "      <td>0.153846</td>\n",
       "      <td>0.176471</td>\n",
       "      <td>0.090909</td>\n",
       "      <td>84140.0</td>\n",
       "      <td>17531</td>\n",
       "      <td>98.69</td>\n",
       "      <td>31300</td>\n",
       "      <td>7</td>\n",
       "      <td>0.917</td>\n",
       "      <td>3300</td>\n",
       "      <td>0.0</td>\n",
       "      <td>0.0</td>\n",
       "      <td>train</td>\n",
       "      <td>0.50</td>\n",
       "      <td>0.152248</td>\n",
       "      <td>0.519993</td>\n",
       "      <td>0.855030</td>\n",
       "      <td>0.368330</td>\n",
       "      <td>0.258588</td>\n",
       "    </tr>\n",
       "    <tr>\n",
       "      <th>3</th>\n",
       "      <td>0.000000</td>\n",
       "      <td>0.000000</td>\n",
       "      <td>0.000000</td>\n",
       "      <td>250510.0</td>\n",
       "      <td>15341</td>\n",
       "      <td>99.57</td>\n",
       "      <td>19415</td>\n",
       "      <td>9</td>\n",
       "      <td>0.049</td>\n",
       "      <td>9600</td>\n",
       "      <td>1.0</td>\n",
       "      <td>1.0</td>\n",
       "      <td>train</td>\n",
       "      <td>0.00</td>\n",
       "      <td>0.284795</td>\n",
       "      <td>0.436054</td>\n",
       "      <td>0.961512</td>\n",
       "      <td>0.442220</td>\n",
       "      <td>0.531551</td>\n",
       "    </tr>\n",
       "    <tr>\n",
       "      <th>4</th>\n",
       "      <td>0.000000</td>\n",
       "      <td>0.000000</td>\n",
       "      <td>0.000000</td>\n",
       "      <td>198680.0</td>\n",
       "      <td>31400</td>\n",
       "      <td>99.87</td>\n",
       "      <td>99379</td>\n",
       "      <td>12</td>\n",
       "      <td>0.052</td>\n",
       "      <td>9600</td>\n",
       "      <td>1.0</td>\n",
       "      <td>1.0</td>\n",
       "      <td>train</td>\n",
       "      <td>0.25</td>\n",
       "      <td>0.256633</td>\n",
       "      <td>0.886617</td>\n",
       "      <td>0.997598</td>\n",
       "      <td>0.526803</td>\n",
       "      <td>0.531551</td>\n",
       "    </tr>\n",
       "  </tbody>\n",
       "</table>\n",
       "</div>"
      ],
      "text/plain": [
       "   Count_3-6_months_late  Count_6-12_months_late  \\\n",
       "0               0.000000                0.000000   \n",
       "1               0.000000                0.000000   \n",
       "2               0.153846                0.176471   \n",
       "3               0.000000                0.000000   \n",
       "4               0.000000                0.000000   \n",
       "\n",
       "   Count_more_than_12_months_late    Income  age_in_days  \\\n",
       "0                        0.000000  355060.0        12058   \n",
       "1                        0.000000  315150.0        21546   \n",
       "2                        0.090909   84140.0        17531   \n",
       "3                        0.000000  250510.0        15341   \n",
       "4                        0.000000  198680.0        31400   \n",
       "\n",
       "   application_underwriting_score      id  no_of_premiums_paid  \\\n",
       "0                           99.02  110936                   13   \n",
       "1                           99.89   41492                   21   \n",
       "2                           98.69   31300                    7   \n",
       "3                           99.57   19415                    9   \n",
       "4                           99.87   99379                   12   \n",
       "\n",
       "   perc_premium_paid_by_cash_credit  premium  renewal  residence_area_type  \\\n",
       "0                             0.429     3300      1.0                  1.0   \n",
       "1                             0.010    18000      1.0                  1.0   \n",
       "2                             0.917     3300      0.0                  0.0   \n",
       "3                             0.049     9600      1.0                  1.0   \n",
       "4                             0.052     9600      1.0                  1.0   \n",
       "\n",
       "  source  sourcing_channel  Log_Income  Log_age_in_days  \\\n",
       "0  train              0.50    0.327169         0.284582   \n",
       "1  train              0.00    0.312683         0.649712   \n",
       "2  train              0.50    0.152248         0.519993   \n",
       "3  train              0.00    0.284795         0.436054   \n",
       "4  train              0.25    0.256633         0.886617   \n",
       "\n",
       "   Log_application_underwriting_score  Log_no_of_premiums_paid  Log_premium  \n",
       "0                            0.895072                 0.550336     0.258588  \n",
       "1                            1.000000                 0.691337     0.692238  \n",
       "2                            0.855030                 0.368330     0.258588  \n",
       "3                            0.961512                 0.442220     0.531551  \n",
       "4                            0.997598                 0.526803     0.531551  "
      ]
     },
     "execution_count": 52,
     "metadata": {},
     "output_type": "execute_result"
    }
   ],
   "source": [
    "data.head()"
   ]
  },
  {
   "cell_type": "code",
   "execution_count": 53,
   "metadata": {},
   "outputs": [
    {
     "data": {
      "text/plain": [
       "Count_3-6_months_late                     0\n",
       "Count_6-12_months_late                    0\n",
       "Count_more_than_12_months_late            0\n",
       "Income                                    0\n",
       "age_in_days                               0\n",
       "application_underwriting_score            0\n",
       "id                                        0\n",
       "no_of_premiums_paid                       0\n",
       "perc_premium_paid_by_cash_credit          0\n",
       "premium                                   0\n",
       "renewal                               34224\n",
       "residence_area_type                       0\n",
       "source                                    0\n",
       "sourcing_channel                          0\n",
       "Log_Income                                0\n",
       "Log_age_in_days                           0\n",
       "Log_application_underwriting_score        0\n",
       "Log_no_of_premiums_paid                   0\n",
       "Log_premium                               0\n",
       "dtype: int64"
      ]
     },
     "execution_count": 53,
     "metadata": {},
     "output_type": "execute_result"
    }
   ],
   "source": [
    "data.apply(lambda x: sum(x.isnull()))"
   ]
  },
  {
   "cell_type": "code",
   "execution_count": 54,
   "metadata": {},
   "outputs": [
    {
     "name": "stderr",
     "output_type": "stream",
     "text": [
      "C:\\Users\\Lenovo\\Anaconda3\\lib\\site-packages\\ipykernel_launcher.py:9: SettingWithCopyWarning: \n",
      "A value is trying to be set on a copy of a slice from a DataFrame\n",
      "\n",
      "See the caveats in the documentation: http://pandas.pydata.org/pandas-docs/stable/indexing.html#indexing-view-versus-copy\n",
      "  if __name__ == '__main__':\n",
      "C:\\Users\\Lenovo\\Anaconda3\\lib\\site-packages\\ipykernel_launcher.py:10: SettingWithCopyWarning: \n",
      "A value is trying to be set on a copy of a slice from a DataFrame\n",
      "\n",
      "See the caveats in the documentation: http://pandas.pydata.org/pandas-docs/stable/indexing.html#indexing-view-versus-copy\n",
      "  # Remove the CWD from sys.path while we load stuff.\n"
     ]
    }
   ],
   "source": [
    "# #Drop the columns which have been converted to different types:\n",
    "# data.drop(['Item_Type','Outlet_Establishment_Year'],axis=1,inplace=True)\n",
    "\n",
    "#Divide into test and train:\n",
    "train = data.loc[data['source']==\"train\"]\n",
    "test = data.loc[data['source']==\"test\"]\n",
    "\n",
    "#Drop unnecessary columns:\n",
    "test.drop(['renewal','source','Income','age_in_days','application_underwriting_score','no_of_premiums_paid','premium'],axis=1,inplace=True)\n",
    "train.drop(['source','Income','age_in_days','application_underwriting_score','no_of_premiums_paid','premium'],axis=1,inplace=True)\n",
    "\n",
    "#Export files as modified versions:\n",
    "train.to_csv(\"train_modified.csv\",index=False)\n",
    "test.to_csv(\"test_modified.csv\",index=False)"
   ]
  },
  {
   "cell_type": "code",
   "execution_count": 55,
   "metadata": {},
   "outputs": [
    {
     "name": "stdout",
     "output_type": "stream",
     "text": [
      "<class 'pandas.core.frame.DataFrame'>\n",
      "Int64Index: 34224 entries, 79853 to 114076\n",
      "Data columns (total 12 columns):\n",
      "Count_3-6_months_late                 34224 non-null float64\n",
      "Count_6-12_months_late                34224 non-null float64\n",
      "Count_more_than_12_months_late        34224 non-null float64\n",
      "id                                    34224 non-null int64\n",
      "perc_premium_paid_by_cash_credit      34224 non-null float64\n",
      "residence_area_type                   34224 non-null float64\n",
      "sourcing_channel                      34224 non-null float64\n",
      "Log_Income                            34224 non-null float64\n",
      "Log_age_in_days                       34224 non-null float64\n",
      "Log_application_underwriting_score    34224 non-null float64\n",
      "Log_no_of_premiums_paid               34224 non-null float64\n",
      "Log_premium                           34224 non-null float64\n",
      "dtypes: float64(11), int64(1)\n",
      "memory usage: 3.4 MB\n"
     ]
    }
   ],
   "source": [
    "test.info()"
   ]
  },
  {
   "cell_type": "code",
   "execution_count": 56,
   "metadata": {},
   "outputs": [
    {
     "name": "stderr",
     "output_type": "stream",
     "text": [
      "C:\\Users\\Lenovo\\Anaconda3\\lib\\site-packages\\ipykernel_launcher.py:8: SettingWithCopyWarning: \n",
      "A value is trying to be set on a copy of a slice from a DataFrame.\n",
      "Try using .loc[row_indexer,col_indexer] = value instead\n",
      "\n",
      "See the caveats in the documentation: http://pandas.pydata.org/pandas-docs/stable/indexing.html#indexing-view-versus-copy\n",
      "  \n"
     ]
    }
   ],
   "source": [
    "#Model building\n",
    "\n",
    "#Mean based:\n",
    "median_renewal = train['renewal'].median()\n",
    "\n",
    "#Define a dataframe with IDs for submission:\n",
    "base1 = test[['id']]\n",
    "base1['renewal'] = median_renewal\n",
    "\n",
    "#Export submission file\n",
    "base1.to_csv(\"alg0.csv\",index=False)"
   ]
  },
  {
   "cell_type": "code",
   "execution_count": 57,
   "metadata": {},
   "outputs": [
    {
     "data": {
      "image/png": "[encoded data removed]",
      "text/plain": [
       "<Figure size 720x360 with 2 Axes>"
      ]
     },
     "metadata": {},
     "output_type": "display_data"
    }
   ],
   "source": [
    "f, ax = plt.subplots(figsize=(10, 5))\n",
    "\n",
    "corrMatt = train.corr()\n",
    "\n",
    "hm = sns.heatmap(round(corrMatt,2), annot=True, ax=ax, cmap=\"coolwarm\",fmt='.2f',\n",
    "                 linewidths=.05)\n",
    "f.subplots_adjust(top=0.93)\n",
    "t= f.suptitle('Propensity to renew - Correlation Heatmap', fontsize=12)\n",
    "\n",
    "\n"
   ]
  },
  {
   "cell_type": "code",
   "execution_count": 58,
   "metadata": {},
   "outputs": [
    {
     "name": "stderr",
     "output_type": "stream",
     "text": [
      "C:\\Users\\Lenovo\\Anaconda3\\lib\\site-packages\\sklearn\\cross_validation.py:41: DeprecationWarning: This module was deprecated in version 0.18 in favor of the model_selection module into which all the refactored classes and functions are moved. Also note that the interface of the new CV iterators are different from that of this module. This module will be removed in 0.20.\n",
      "  \"This module will be removed in 0.20.\", DeprecationWarning)\n"
     ]
    }
   ],
   "source": [
    "#Import models from scikit learn module:\n",
    "from sklearn.linear_model import LogisticRegression\n",
    "from sklearn.cross_validation import KFold   #For K-fold cross validation\n",
    "from sklearn.ensemble import RandomForestClassifier\n",
    "from sklearn.tree import DecisionTreeClassifier, export_graphviz\n",
    "from sklearn import metrics\n",
    "\n",
    "#Generic function for making a classification model and accessing performance:\n",
    "def classification_model(model, data, predictors, outcome):\n",
    "  #Fit the model:\n",
    "  model.fit(data[predictors],data[outcome])\n",
    "  \n",
    "  #Make predictions on training set:\n",
    "  predictions = model.predict(data[predictors])\n",
    "  \n",
    "  #Print accuracy\n",
    "  accuracy = metrics.accuracy_score(predictions,data[outcome])\n",
    "  print(\"Accuracy : %s\" % \"{0:.3%}\".format(accuracy))\n",
    "\n",
    "  #Perform k-fold cross-validation with 5 folds\n",
    "  kf = KFold(data.shape[0], n_folds=5)\n",
    "  error = []\n",
    "  for train, test in kf:\n",
    "    # Filter training data\n",
    "    train_predictors = (data[predictors].iloc[train,:])\n",
    "    \n",
    "    # The target we're using to train the algorithm.\n",
    "    train_target = data[outcome].iloc[train]\n",
    "    \n",
    "    # Training the algorithm using the predictors and target.\n",
    "    model.fit(train_predictors, train_target)\n",
    "    \n",
    "    #Record error from each cross-validation run\n",
    "    error.append(model.score(data[predictors].iloc[test,:], data[outcome].iloc[test]))\n",
    " \n",
    "  print(\"Cross-Validation Score : %s\" % \"{0:.3%}\".format(np.mean(error)))\n",
    "\n",
    "  #Fit the model again so that it can be refered outside the function:\n",
    "  model.fit(data[predictors],data[outcome]) \n"
   ]
  },
  {
   "cell_type": "code",
   "execution_count": 59,
   "metadata": {},
   "outputs": [
    {
     "name": "stdout",
     "output_type": "stream",
     "text": [
      "Accuracy : 93.741%\n",
      "Cross-Validation Score : 93.741%\n"
     ]
    }
   ],
   "source": [
    "#Count_3-6_months_late\tCount_6-12_months_late\tCount_more_than_12_months_late\tid\tperc_premium_paid_by_cash_credit\trenewal\tresidence_area_type\tsourcing_channel\tLog_Income\tLog_age_in_days\tLog_application_underwriting_score\tLog_no_of_premiums_paid\tLog_premium\n",
    "\n",
    "#Logistic Regression\n",
    "\n",
    "\n",
    "outcome_var = 'renewal'\n",
    "model_lr = LogisticRegression()\n",
    "predictor_var = ['Log_premium']\n",
    "X_train = train[predictor_var]\n",
    "y_train = train[outcome_var] \n",
    "classification_model(model_lr, train,predictor_var,outcome_var)"
   ]
  },
  {
   "cell_type": "code",
   "execution_count": 60,
   "metadata": {},
   "outputs": [
    {
     "name": "stdout",
     "output_type": "stream",
     "text": [
      "Accuracy : 93.740%\n",
      "Cross-Validation Score : 93.741%\n"
     ]
    }
   ],
   "source": [
    "#We can try different combination of variables:\n",
    "predictor_var = ['Log_premium','Log_Income','Log_no_of_premiums_paid','Log_application_underwriting_score','Log_age_in_days']\n",
    "X_train = train[predictor_var]\n",
    "y_train = train[outcome_var]  \n",
    "classification_model(model_lr, train,predictor_var,outcome_var)"
   ]
  },
  {
   "cell_type": "code",
   "execution_count": 61,
   "metadata": {},
   "outputs": [
    {
     "name": "stdout",
     "output_type": "stream",
     "text": [
      "Accuracy : 93.915%\n",
      "Cross-Validation Score : 93.919%\n"
     ]
    }
   ],
   "source": [
    "#We can try different combination of variables:\n",
    "predictor_var = ['Log_premium','Log_Income','Log_no_of_premiums_paid','Log_application_underwriting_score','Log_age_in_days','Count_3-6_months_late','Count_6-12_months_late','Count_more_than_12_months_late','perc_premium_paid_by_cash_credit','residence_area_type','sourcing_channel']\n",
    "X_train = train[predictor_var]\n",
    "y_train = train[outcome_var]  \n",
    "classification_model(model_lr, train,predictor_var,outcome_var)"
   ]
  },
  {
   "cell_type": "code",
   "execution_count": 62,
   "metadata": {},
   "outputs": [
    {
     "name": "stdout",
     "output_type": "stream",
     "text": [
      "Accuracy : 100.000%\n",
      "Cross-Validation Score : 89.697%\n"
     ]
    }
   ],
   "source": [
    "#Decision Tree\n",
    "\n",
    "#Decision tree is another method for making a predictive model. It is known to provide higher accuracy than logistic regression model. \n",
    "\n",
    "model_dt = DecisionTreeClassifier()\n",
    "predictor_var = ['Log_premium','Log_Income','Log_no_of_premiums_paid','Log_application_underwriting_score','Log_age_in_days','Count_3-6_months_late','Count_6-12_months_late','Count_more_than_12_months_late','perc_premium_paid_by_cash_credit','residence_area_type','sourcing_channel']\n",
    "X_train = train[predictor_var]\n",
    "y_train = train[outcome_var]  \n",
    "classification_model(model_dt, train,predictor_var,outcome_var)"
   ]
  },
  {
   "cell_type": "code",
   "execution_count": 63,
   "metadata": {},
   "outputs": [
    {
     "name": "stdout",
     "output_type": "stream",
     "text": [
      "Accuracy : 99.997%\n",
      "Cross-Validation Score : 93.797%\n"
     ]
    }
   ],
   "source": [
    "# Random Forest\n",
    "# Random forest is another algorithm for solving the classification problem.\n",
    "\n",
    "# An advantage with Random Forest is that we can make it work with all the features and it returns a feature importance matrix which can be used to select features.\n",
    "\n",
    "model_rf1 = RandomForestClassifier(n_estimators=100)\n",
    "predictor_var = ['Log_premium','Log_Income','Log_no_of_premiums_paid','Log_application_underwriting_score','Log_age_in_days','Count_3-6_months_late','Count_6-12_months_late','Count_more_than_12_months_late','perc_premium_paid_by_cash_credit','residence_area_type','sourcing_channel']\n",
    "X_train = train[predictor_var]\n",
    "y_train = train[outcome_var]  \n",
    "classification_model(model_rf1, train,predictor_var,outcome_var)"
   ]
  },
  {
   "cell_type": "code",
   "execution_count": 64,
   "metadata": {},
   "outputs": [],
   "source": [
    "# Here we see that the accuracy is almost 100% for the training set. This is the ultimate case of overfitting and can be resolved in two ways:\n",
    "\n",
    "# 1. Reducing the number of predictors\n",
    "# 2. Tuning the model parameters\n",
    "\n",
    "# Let’s try both of these. First we see the feature importance matrix from which we’ll take the most important features."
   ]
  },
  {
   "cell_type": "code",
   "execution_count": 65,
   "metadata": {},
   "outputs": [
    {
     "name": "stdout",
     "output_type": "stream",
     "text": [
      "Log_Income                            0.161889\n",
      "Log_age_in_days                       0.155402\n",
      "perc_premium_paid_by_cash_credit      0.153673\n",
      "Log_application_underwriting_score    0.139425\n",
      "Log_no_of_premiums_paid               0.091526\n",
      "Count_6-12_months_late                0.075501\n",
      "Log_premium                           0.075308\n",
      "Count_3-6_months_late                 0.047564\n",
      "sourcing_channel                      0.040742\n",
      "Count_more_than_12_months_late        0.038313\n",
      "residence_area_type                   0.020658\n",
      "dtype: float64\n"
     ]
    }
   ],
   "source": [
    "#Create a series with feature importances:\n",
    "featimp = pd.Series(model_rf1.feature_importances_, index=predictor_var).sort_values(ascending=False)\n",
    "print(featimp)"
   ]
  },
  {
   "cell_type": "code",
   "execution_count": 66,
   "metadata": {},
   "outputs": [
    {
     "name": "stdout",
     "output_type": "stream",
     "text": [
      "Accuracy : 93.741%\n",
      "Cross-Validation Score : 93.741%\n"
     ]
    }
   ],
   "source": [
    "#Let’s use the top 5 variables for creating a model. Also, we will modify the parameters of random forest model a little bit:\n",
    "\n",
    "model_rf2 = RandomForestClassifier(n_estimators=25, min_samples_split=25, max_depth=7, max_features=1)\n",
    "predictor_var = ['Log_Income','Log_age_in_days','perc_premium_paid_by_cash_credit','Log_application_underwriting_score','Log_no_of_premiums_paid']\n",
    "X_train = train[predictor_var]\n",
    "y_train = train[outcome_var] \n",
    "classification_model(model_rf2, train,predictor_var,outcome_var)"
   ]
  },
  {
   "cell_type": "code",
   "execution_count": 67,
   "metadata": {},
   "outputs": [],
   "source": [
    "# Notice that although accuracy reduced, but the cross-validation score is improving showing that the model is generalizing well. Remember that random forest models are not exactly repeatable. Different runs will result in slight variations because of randomization. But the output should stay in the ballpark.\n",
    "\n",
    "# You would have noticed that even after some basic parameter tuning on random forest, we have reached a cross-validation accuracy only slightly better than the original logistic regression model. This exercise gives us some very interesting and unique learning:\n",
    "\n",
    "# Using a more sophisticated model does not guarantee better results.\n",
    "# Avoid using complex modeling techniques as a black box without understanding the underlying concepts. Doing so would increase the tendency of overfitting thus making your models less interpretable\n",
    "# Feature Engineering is the key to success. Everyone can use an Xgboost models but the real art and creativity lies in enhancing your features to better suit the model"
   ]
  },
  {
   "cell_type": "code",
   "execution_count": 68,
   "metadata": {},
   "outputs": [
    {
     "data": {
      "text/plain": [
       "Count_3-6_months_late                 0\n",
       "Count_6-12_months_late                0\n",
       "Count_more_than_12_months_late        0\n",
       "id                                    0\n",
       "perc_premium_paid_by_cash_credit      0\n",
       "residence_area_type                   0\n",
       "sourcing_channel                      0\n",
       "Log_Income                            0\n",
       "Log_age_in_days                       0\n",
       "Log_application_underwriting_score    0\n",
       "Log_no_of_premiums_paid               0\n",
       "Log_premium                           0\n",
       "dtype: int64"
      ]
     },
     "execution_count": 68,
     "metadata": {},
     "output_type": "execute_result"
    }
   ],
   "source": [
    "#Prediction\n",
    "#Read Test File\n",
    "test = pd.read_csv(\"test_modified.csv\") \n",
    "\n",
    "#let us check the number of nulls / NaNs in the dataset\n",
    "\n",
    "test.apply(lambda x: sum(x.isnull()),axis=0)"
   ]
  },
  {
   "cell_type": "code",
   "execution_count": 69,
   "metadata": {},
   "outputs": [
    {
     "data": {
      "text/html": [
       "<div>\n",
       "<style scoped>\n",
       "    .dataframe tbody tr th:only-of-type {\n",
       "        vertical-align: middle;\n",
       "    }\n",
       "\n",
       "    .dataframe tbody tr th {\n",
       "        vertical-align: top;\n",
       "    }\n",
       "\n",
       "    .dataframe thead th {\n",
       "        text-align: right;\n",
       "    }\n",
       "</style>\n",
       "<table border=\"1\" class=\"dataframe\">\n",
       "  <thead>\n",
       "    <tr style=\"text-align: right;\">\n",
       "      <th></th>\n",
       "      <th>Count_3-6_months_late</th>\n",
       "      <th>Count_6-12_months_late</th>\n",
       "      <th>Count_more_than_12_months_late</th>\n",
       "      <th>id</th>\n",
       "      <th>perc_premium_paid_by_cash_credit</th>\n",
       "      <th>residence_area_type</th>\n",
       "      <th>sourcing_channel</th>\n",
       "      <th>Log_Income</th>\n",
       "      <th>Log_age_in_days</th>\n",
       "      <th>Log_application_underwriting_score</th>\n",
       "      <th>Log_no_of_premiums_paid</th>\n",
       "      <th>Log_premium</th>\n",
       "    </tr>\n",
       "  </thead>\n",
       "  <tbody>\n",
       "    <tr>\n",
       "      <th>0</th>\n",
       "      <td>0.000000</td>\n",
       "      <td>0.0</td>\n",
       "      <td>0.0</td>\n",
       "      <td>649</td>\n",
       "      <td>0.001</td>\n",
       "      <td>0.0</td>\n",
       "      <td>0.00</td>\n",
       "      <td>0.091780</td>\n",
       "      <td>0.800535</td>\n",
       "      <td>1.000000</td>\n",
       "      <td>0.368330</td>\n",
       "      <td>0.258588</td>\n",
       "    </tr>\n",
       "    <tr>\n",
       "      <th>1</th>\n",
       "      <td>0.000000</td>\n",
       "      <td>0.0</td>\n",
       "      <td>0.0</td>\n",
       "      <td>81136</td>\n",
       "      <td>0.124</td>\n",
       "      <td>1.0</td>\n",
       "      <td>0.00</td>\n",
       "      <td>0.300525</td>\n",
       "      <td>0.710578</td>\n",
       "      <td>0.884164</td>\n",
       "      <td>0.661912</td>\n",
       "      <td>0.582120</td>\n",
       "    </tr>\n",
       "    <tr>\n",
       "      <th>2</th>\n",
       "      <td>0.000000</td>\n",
       "      <td>0.0</td>\n",
       "      <td>0.0</td>\n",
       "      <td>70762</td>\n",
       "      <td>1.000</td>\n",
       "      <td>1.0</td>\n",
       "      <td>0.25</td>\n",
       "      <td>0.248641</td>\n",
       "      <td>0.506905</td>\n",
       "      <td>0.900603</td>\n",
       "      <td>0.000000</td>\n",
       "      <td>0.582120</td>\n",
       "    </tr>\n",
       "    <tr>\n",
       "      <th>3</th>\n",
       "      <td>0.000000</td>\n",
       "      <td>0.0</td>\n",
       "      <td>0.0</td>\n",
       "      <td>53935</td>\n",
       "      <td>0.198</td>\n",
       "      <td>0.0</td>\n",
       "      <td>0.25</td>\n",
       "      <td>0.198910</td>\n",
       "      <td>0.465178</td>\n",
       "      <td>0.892649</td>\n",
       "      <td>0.501220</td>\n",
       "      <td>0.384476</td>\n",
       "    </tr>\n",
       "    <tr>\n",
       "      <th>4</th>\n",
       "      <td>0.076923</td>\n",
       "      <td>0.0</td>\n",
       "      <td>0.0</td>\n",
       "      <td>15476</td>\n",
       "      <td>0.041</td>\n",
       "      <td>0.0</td>\n",
       "      <td>0.00</td>\n",
       "      <td>0.257450</td>\n",
       "      <td>0.202982</td>\n",
       "      <td>0.913228</td>\n",
       "      <td>0.572125</td>\n",
       "      <td>0.531551</td>\n",
       "    </tr>\n",
       "  </tbody>\n",
       "</table>\n",
       "</div>"
      ],
      "text/plain": [
       "   Count_3-6_months_late  Count_6-12_months_late  \\\n",
       "0               0.000000                     0.0   \n",
       "1               0.000000                     0.0   \n",
       "2               0.000000                     0.0   \n",
       "3               0.000000                     0.0   \n",
       "4               0.076923                     0.0   \n",
       "\n",
       "   Count_more_than_12_months_late     id  perc_premium_paid_by_cash_credit  \\\n",
       "0                             0.0    649                             0.001   \n",
       "1                             0.0  81136                             0.124   \n",
       "2                             0.0  70762                             1.000   \n",
       "3                             0.0  53935                             0.198   \n",
       "4                             0.0  15476                             0.041   \n",
       "\n",
       "   residence_area_type  sourcing_channel  Log_Income  Log_age_in_days  \\\n",
       "0                  0.0              0.00    0.091780         0.800535   \n",
       "1                  1.0              0.00    0.300525         0.710578   \n",
       "2                  1.0              0.25    0.248641         0.506905   \n",
       "3                  0.0              0.25    0.198910         0.465178   \n",
       "4                  0.0              0.00    0.257450         0.202982   \n",
       "\n",
       "   Log_application_underwriting_score  Log_no_of_premiums_paid  Log_premium  \n",
       "0                            1.000000                 0.368330     0.258588  \n",
       "1                            0.884164                 0.661912     0.582120  \n",
       "2                            0.900603                 0.000000     0.582120  \n",
       "3                            0.892649                 0.501220     0.384476  \n",
       "4                            0.913228                 0.572125     0.531551  "
      ]
     },
     "execution_count": 69,
     "metadata": {},
     "output_type": "execute_result"
    }
   ],
   "source": [
    "test.head()"
   ]
  },
  {
   "cell_type": "code",
   "execution_count": 70,
   "metadata": {},
   "outputs": [],
   "source": [
    "#Prediction\n",
    "predictor_var = ['Log_Income','Log_age_in_days','perc_premium_paid_by_cash_credit','Log_application_underwriting_score','Log_no_of_premiums_paid']\n",
    "\n",
    "test['renewal'] = model_rf2.predict(test[predictor_var])\n",
    "# df_test.loc[df_test.Loan_Status == 1 , 'Loan_Status' ] = 'Y'\n",
    "# df_test.loc[df_test.Loan_Status == 0 , 'Loan_Status' ] = 'N'\n",
    "\n",
    "X_test = test[predictor_var]\n",
    "\n",
    "#Submission\n",
    "\n",
    "pd.DataFrame(test, columns=['id' , 'renewal']).to_csv('prediction.csv')"
   ]
  },
  {
   "cell_type": "code",
   "execution_count": 71,
   "metadata": {},
   "outputs": [
    {
     "data": {
      "image/png": "[encoded data removed]",
      "text/plain": [
       "<Figure size 1080x360 with 3 Axes>"
      ]
     },
     "metadata": {},
     "output_type": "display_data"
    }
   ],
   "source": [
    "# from sklearn.metrics import roc_curve, auc, roc_auc_score, log_loss, accuracy_score\n",
    "\n",
    "threshold = 0.5\n",
    "y_train_pred = model_rf2.predict_proba(X_train)[:,1]\n",
    "#y_test_pred = model_rf2.predict_proba(X_test)[:,1]\n",
    "\n",
    "\n",
    "fig,ax = plt.subplots(1,3)\n",
    "fig.set_size_inches(15,5)\n",
    "\n",
    "plot_cm(ax[0],  y_train, y_train_pred, [0,1], 'Confusion matrix (TRAIN)', threshold)\n",
    "#plot_cm(ax[1],  y_test, y_test_pred,   [0,1], 'Confusion matrix (TEST)', threshold)\n",
    "plot_auc(ax[1], y_train, y_train_pred, threshold)\n",
    "    \n",
    "plt.tight_layout()\n",
    "plt.show()"
   ]
  },
  {
   "cell_type": "code",
   "execution_count": null,
   "metadata": {},
   "outputs": [],
   "source": []
  },
  {
   "cell_type": "code",
   "execution_count": null,
   "metadata": {},
   "outputs": [],
   "source": []
  },
  {
   "cell_type": "code",
   "execution_count": null,
   "metadata": {},
   "outputs": [],
   "source": []
  },
  {
   "cell_type": "code",
   "execution_count": null,
   "metadata": {},
   "outputs": [],
   "source": []
  },
  {
   "cell_type": "code",
   "execution_count": null,
   "metadata": {},
   "outputs": [],
   "source": []
  },
  {
   "cell_type": "code",
   "execution_count": null,
   "metadata": {},
   "outputs": [],
   "source": []
  },
  {
   "cell_type": "code",
   "execution_count": null,
   "metadata": {},
   "outputs": [],
   "source": []
  },
  {
   "cell_type": "code",
   "execution_count": null,
   "metadata": {},
   "outputs": [],
   "source": []
  },
  {
   "cell_type": "code",
   "execution_count": null,
   "metadata": {},
   "outputs": [],
   "source": []
  },
  {
   "cell_type": "code",
   "execution_count": null,
   "metadata": {},
   "outputs": [],
   "source": []
  },
  {
   "cell_type": "code",
   "execution_count": null,
   "metadata": {},
   "outputs": [],
   "source": []
  },
  {
   "cell_type": "code",
   "execution_count": null,
   "metadata": {},
   "outputs": [],
   "source": []
  },
  {
   "cell_type": "code",
   "execution_count": null,
   "metadata": {},
   "outputs": [],
   "source": []
  },
  {
   "cell_type": "code",
   "execution_count": null,
   "metadata": {},
   "outputs": [],
   "source": []
  },
  {
   "cell_type": "code",
   "execution_count": null,
   "metadata": {},
   "outputs": [],
   "source": []
  },
  {
   "cell_type": "code",
   "execution_count": null,
   "metadata": {},
   "outputs": [],
   "source": []
  },
  {
   "cell_type": "code",
   "execution_count": null,
   "metadata": {},
   "outputs": [],
   "source": []
  },
  {
   "cell_type": "code",
   "execution_count": null,
   "metadata": {},
   "outputs": [],
   "source": []
  },
  {
   "cell_type": "code",
   "execution_count": null,
   "metadata": {},
   "outputs": [],
   "source": []
  },
  {
   "cell_type": "code",
   "execution_count": null,
   "metadata": {},
   "outputs": [],
   "source": []
  }
 ],
 "metadata": {
  "kernelspec": {
   "display_name": "Python 3",
   "language": "python",
   "name": "python3"
  },
  "language_info": {
   "codemirror_mode": {
    "name": "ipython",
    "version": 3
   },
   "file_extension": ".py",
   "mimetype": "text/x-python",
   "name": "python",
   "nbconvert_exporter": "python",
   "pygments_lexer": "ipython3",
   "version": "3.6.4"
  },
  "latex_envs": {
   "LaTeX_envs_menu_present": true,
   "autoclose": true,
   "autocomplete": true,
   "bibliofile": "biblio.bib",
   "cite_by": "apalike",
   "current_citInitial": 1,
   "eqLabelWithNumbers": true,
   "eqNumInitial": 1,
   "hotkeys": {
    "equation": "Ctrl-E",
    "itemize": "Ctrl-I"
   },
   "labels_anchors": false,
   "latex_user_defs": false,
   "report_style_numbering": false,
   "user_envs_cfg": false
  },
  "nbTranslate": {
   "displayLangs": [
    "*"
   ],
   "hotkey": "alt-t",
   "langInMainMenu": true,
   "sourceLang": "en",
   "targetLang": "fr",
   "useGoogleTranslate": true
  },
  "toc": {
   "base_numbering": 1,
   "nav_menu": {},
   "number_sections": true,
   "sideBar": true,
   "skip_h1_title": false,
   "title_cell": "Table of Contents",
   "title_sidebar": "Contents",
   "toc_cell": false,
   "toc_position": {},
   "toc_section_display": true,
   "toc_window_display": false
  },
  "varInspector": {
   "cols": {
    "lenName": 16,
    "lenType": 16,
    "lenVar": 40
   },
   "kernels_config": {
    "python": {
     "delete_cmd_postfix": "",
     "delete_cmd_prefix": "del ",
     "library": "var_list.py",
     "varRefreshCmd": "print(var_dic_list())"
    },
    "r": {
     "delete_cmd_postfix": ") ",
     "delete_cmd_prefix": "rm(",
     "library": "var_list.r",
     "varRefreshCmd": "cat(var_dic_list()) "
    }
   },
   "position": {
    "height": "773px",
    "left": "1680px",
    "right": "20px",
    "top": "121px",
    "width": "326px"
   },
   "types_to_exclude": [
    "module",
    "function",
    "builtin_function_or_method",
    "instance",
    "_Feature"
   ],
   "window_display": false
  }
 },
 "nbformat": 4,
 "nbformat_minor": 2
}
